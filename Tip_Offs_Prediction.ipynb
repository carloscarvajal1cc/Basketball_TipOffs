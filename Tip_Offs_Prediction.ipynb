{
  "nbformat": 4,
  "nbformat_minor": 0,
  "metadata": {
    "colab": {
      "name": "Tip_Offs_Prediction.ipynb",
      "provenance": [],
      "collapsed_sections": [],
      "include_colab_link": true
    },
    "kernelspec": {
      "name": "python3",
      "display_name": "Python 3"
    }
  },
  "cells": [
    {
      "cell_type": "markdown",
      "metadata": {
        "id": "view-in-github",
        "colab_type": "text"
      },
      "source": [
        "<a href=\"https://colab.research.google.com/github/carloscarvajal1cc/Basketball_TipOffs/blob/master/Tip_Offs_Prediction.ipynb\" target=\"_parent\"><img src=\"https://colab.research.google.com/assets/colab-badge.svg\" alt=\"Open In Colab\"/></a>"
      ]
    },
    {
      "cell_type": "markdown",
      "metadata": {
        "id": "z-Y8M-vtT6tV",
        "colab_type": "text"
      },
      "source": [
        "# Basketball Tip-offs prediction model with Deep Learning and Data Mining"
      ]
    },
    {
      "cell_type": "markdown",
      "metadata": {
        "id": "LObi78zwULeu",
        "colab_type": "text"
      },
      "source": [
        "The following code present an approach to evaluate how good each player is at winning tip-offs, with a dataset from the NBA basketball in the 2017-18 season.\n",
        "\n",
        "In order to achieve a good prediction several models will be built and compared and one will be chosen according to the best accuracy in predicting weather a player will win or loose a tip-off.\n",
        "\n",
        "First, all the relevant libraries, along with the previously transformed in excel dataset will be loaded into the enviroment. "
      ]
    },
    {
      "cell_type": "code",
      "metadata": {
        "id": "fVyfNuzNe205",
        "colab_type": "code",
        "outputId": "4ef4fb3a-b248-4ec8-b96d-7609287ac6b7",
        "colab": {
          "base_uri": "https://localhost:8080/",
          "height": 394
        }
      },
      "source": [
        "!pip install tensorflow"
      ],
      "execution_count": 65,
      "outputs": [
        {
          "output_type": "stream",
          "text": [
            "Requirement already satisfied: tensorflow in /usr/local/lib/python3.6/dist-packages (1.15.0)\n",
            "Requirement already satisfied: keras-applications>=1.0.8 in /usr/local/lib/python3.6/dist-packages (from tensorflow) (1.0.8)\n",
            "Requirement already satisfied: wrapt>=1.11.1 in /usr/local/lib/python3.6/dist-packages (from tensorflow) (1.11.2)\n",
            "Requirement already satisfied: google-pasta>=0.1.6 in /usr/local/lib/python3.6/dist-packages (from tensorflow) (0.1.7)\n",
            "Requirement already satisfied: grpcio>=1.8.6 in /usr/local/lib/python3.6/dist-packages (from tensorflow) (1.15.0)\n",
            "Requirement already satisfied: opt-einsum>=2.3.2 in /usr/local/lib/python3.6/dist-packages (from tensorflow) (3.1.0)\n",
            "Requirement already satisfied: absl-py>=0.7.0 in /usr/local/lib/python3.6/dist-packages (from tensorflow) (0.8.1)\n",
            "Requirement already satisfied: six>=1.10.0 in /usr/local/lib/python3.6/dist-packages (from tensorflow) (1.12.0)\n",
            "Requirement already satisfied: protobuf>=3.6.1 in /usr/local/lib/python3.6/dist-packages (from tensorflow) (3.10.0)\n",
            "Requirement already satisfied: tensorboard<1.16.0,>=1.15.0 in /usr/local/lib/python3.6/dist-packages (from tensorflow) (1.15.0)\n",
            "Requirement already satisfied: tensorflow-estimator==1.15.1 in /usr/local/lib/python3.6/dist-packages (from tensorflow) (1.15.1)\n",
            "Requirement already satisfied: termcolor>=1.1.0 in /usr/local/lib/python3.6/dist-packages (from tensorflow) (1.1.0)\n",
            "Requirement already satisfied: wheel>=0.26 in /usr/local/lib/python3.6/dist-packages (from tensorflow) (0.33.6)\n",
            "Requirement already satisfied: keras-preprocessing>=1.0.5 in /usr/local/lib/python3.6/dist-packages (from tensorflow) (1.1.0)\n",
            "Requirement already satisfied: gast==0.2.2 in /usr/local/lib/python3.6/dist-packages (from tensorflow) (0.2.2)\n",
            "Requirement already satisfied: astor>=0.6.0 in /usr/local/lib/python3.6/dist-packages (from tensorflow) (0.8.0)\n",
            "Requirement already satisfied: numpy<2.0,>=1.16.0 in /usr/local/lib/python3.6/dist-packages (from tensorflow) (1.17.3)\n",
            "Requirement already satisfied: h5py in /usr/local/lib/python3.6/dist-packages (from keras-applications>=1.0.8->tensorflow) (2.8.0)\n",
            "Requirement already satisfied: setuptools in /usr/local/lib/python3.6/dist-packages (from protobuf>=3.6.1->tensorflow) (41.4.0)\n",
            "Requirement already satisfied: markdown>=2.6.8 in /usr/local/lib/python3.6/dist-packages (from tensorboard<1.16.0,>=1.15.0->tensorflow) (3.1.1)\n",
            "Requirement already satisfied: werkzeug>=0.11.15 in /usr/local/lib/python3.6/dist-packages (from tensorboard<1.16.0,>=1.15.0->tensorflow) (0.16.0)\n"
          ],
          "name": "stdout"
        }
      ]
    },
    {
      "cell_type": "markdown",
      "metadata": {
        "id": "XhIaVBl1J2Wt",
        "colab_type": "text"
      },
      "source": [
        "## Importing the data set"
      ]
    },
    {
      "cell_type": "code",
      "metadata": {
        "id": "CGsU7vTfbUTF",
        "colab_type": "code",
        "outputId": "5be72192-bd9c-439e-ff10-478b35a952f4",
        "colab": {
          "resources": {
            "http://localhost:8080/nbextensions/google.colab/files.js": {
              "data": "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",
              "ok": true,
              "headers": [
                [
                  "content-type",
                  "application/javascript"
                ]
              ],
              "status": 200,
              "status_text": ""
            }
          },
          "base_uri": "https://localhost:8080/",
          "height": 134
        }
      },
      "source": [
        "import numpy as np\n",
        "import pandas as pd\n",
        "import io\n",
        "from sklearn.feature_selection import SelectKBest\n",
        "from sklearn.feature_selection import chi2\n",
        "from sklearn import preprocessing\n",
        "from sklearn.model_selection import train_test_split\n",
        "from sklearn.model_selection import GridSearchCV\n",
        "from sklearn.metrics import classification_report\n",
        "from sklearn.metrics import confusion_matrix\n",
        "from sklearn.ensemble import  BaggingClassifier, AdaBoostClassifier, RandomForestClassifier\n",
        "from sklearn.tree import DecisionTreeClassifier\n",
        "from sklearn.datasets import make_classification\n",
        "from time import time\n",
        "import logging\n",
        "from sklearn.neural_network import MLPClassifier\n",
        "from sklearn.linear_model import LogisticRegression\n",
        "from sklearn.ensemble import AdaBoostClassifier\n",
        "import tensorflow as tf\n",
        "from tensorflow import keras\n",
        "from sklearn.svm import SVC\n",
        "import matplotlib.pyplot as plt\n",
        "\n",
        "\n",
        "from keras.wrappers.scikit_learn import KerasClassifier\n",
        "from keras.models import Sequential\n",
        "from keras.layers import Dense\n",
        "from keras.layers import Dropout\n",
        "from keras.wrappers.scikit_learn import KerasClassifier\n",
        "from sklearn.model_selection import cross_val_score\n",
        "\n",
        "\n",
        "from google.colab import files\n",
        "uploaded = files.upload()\n",
        "Data = pd.read_csv(io.StringIO(uploaded['Basketball1.csv'].decode('utf-8')))"
      ],
      "execution_count": 1,
      "outputs": [
        {
          "output_type": "display_data",
          "data": {
            "text/html": [
              "<p style=\"color: red;\">\n",
              "The default version of TensorFlow in Colab will soon switch to TensorFlow 2.x.<br>\n",
              "We recommend you <a href=\"https://www.tensorflow.org/guide/migrate\" target=\"_blank\">upgrade</a> now \n",
              "or ensure your notebook will continue to use TensorFlow 1.x via the <code>%tensorflow_version 1.x</code> magic:\n",
              "<a href=\"https://colab.research.google.com/notebooks/tensorflow_version.ipynb\" target=\"_blank\">more info</a>.</p>\n"
            ],
            "text/plain": [
              "<IPython.core.display.HTML object>"
            ]
          },
          "metadata": {
            "tags": []
          }
        },
        {
          "output_type": "stream",
          "text": [
            "Using TensorFlow backend.\n"
          ],
          "name": "stderr"
        },
        {
          "output_type": "display_data",
          "data": {
            "text/html": [
              "\n",
              "     <input type=\"file\" id=\"files-f9f79f83-7fc6-4dcf-8410-f7519c9e257e\" name=\"files[]\" multiple disabled />\n",
              "     <output id=\"result-f9f79f83-7fc6-4dcf-8410-f7519c9e257e\">\n",
              "      Upload widget is only available when the cell has been executed in the\n",
              "      current browser session. Please rerun this cell to enable.\n",
              "      </output>\n",
              "      <script src=\"/nbextensions/google.colab/files.js\"></script> "
            ],
            "text/plain": [
              "<IPython.core.display.HTML object>"
            ]
          },
          "metadata": {
            "tags": []
          }
        },
        {
          "output_type": "stream",
          "text": [
            "Saving Basketball1.csv to Basketball1.csv\n"
          ],
          "name": "stdout"
        }
      ]
    },
    {
      "cell_type": "markdown",
      "metadata": {
        "id": "JslURrK6VTMN",
        "colab_type": "text"
      },
      "source": [
        "Thus, by using pandas the dataset can be observed as follow:"
      ]
    },
    {
      "cell_type": "code",
      "metadata": {
        "id": "anezegTSKLR2",
        "colab_type": "code",
        "outputId": "9d4195b7-995c-42b3-8bd5-3589ca005011",
        "colab": {
          "base_uri": "https://localhost:8080/",
          "height": 292
        }
      },
      "source": [
        "Data.head()\n"
      ],
      "execution_count": 2,
      "outputs": [
        {
          "output_type": "execute_result",
          "data": {
            "text/html": [
              "<div>\n",
              "<style scoped>\n",
              "    .dataframe tbody tr th:only-of-type {\n",
              "        vertical-align: middle;\n",
              "    }\n",
              "\n",
              "    .dataframe tbody tr th {\n",
              "        vertical-align: top;\n",
              "    }\n",
              "\n",
              "    .dataframe thead th {\n",
              "        text-align: right;\n",
              "    }\n",
              "</style>\n",
              "<table border=\"1\" class=\"dataframe\">\n",
              "  <thead>\n",
              "    <tr style=\"text-align: right;\">\n",
              "      <th></th>\n",
              "      <th>Home Player Win</th>\n",
              "      <th>Home Player Country</th>\n",
              "      <th>Away Player Country</th>\n",
              "      <th>Date</th>\n",
              "      <th>Difference of Age:  Home Player</th>\n",
              "      <th>Difference Height: Home Player</th>\n",
              "      <th>Difference Weight: Home Player</th>\n",
              "      <th>Home Player Age</th>\n",
              "      <th>Home Player Height (Inches)</th>\n",
              "      <th>Home Player Weight (Lbs)</th>\n",
              "      <th>Away Player Age</th>\n",
              "      <th>Away Player Height (Inches)</th>\n",
              "      <th>Away Player Weight (Lbs)</th>\n",
              "    </tr>\n",
              "  </thead>\n",
              "  <tbody>\n",
              "    <tr>\n",
              "      <th>0</th>\n",
              "      <td>0</td>\n",
              "      <td>NNN</td>\n",
              "      <td>NNN</td>\n",
              "      <td>43025</td>\n",
              "      <td>18</td>\n",
              "      <td>11</td>\n",
              "      <td>99</td>\n",
              "      <td>38</td>\n",
              "      <td>87</td>\n",
              "      <td>290</td>\n",
              "      <td>20</td>\n",
              "      <td>76</td>\n",
              "      <td>191</td>\n",
              "    </tr>\n",
              "    <tr>\n",
              "      <th>1</th>\n",
              "      <td>0</td>\n",
              "      <td>NNN</td>\n",
              "      <td>NNN</td>\n",
              "      <td>43025</td>\n",
              "      <td>-18</td>\n",
              "      <td>-11</td>\n",
              "      <td>-99</td>\n",
              "      <td>20</td>\n",
              "      <td>76</td>\n",
              "      <td>191</td>\n",
              "      <td>38</td>\n",
              "      <td>87</td>\n",
              "      <td>290</td>\n",
              "    </tr>\n",
              "    <tr>\n",
              "      <th>2</th>\n",
              "      <td>0</td>\n",
              "      <td>USA</td>\n",
              "      <td>Dominican Republic</td>\n",
              "      <td>43025</td>\n",
              "      <td>-2</td>\n",
              "      <td>0</td>\n",
              "      <td>6</td>\n",
              "      <td>30</td>\n",
              "      <td>82</td>\n",
              "      <td>251</td>\n",
              "      <td>32</td>\n",
              "      <td>82</td>\n",
              "      <td>245</td>\n",
              "    </tr>\n",
              "    <tr>\n",
              "      <th>3</th>\n",
              "      <td>0</td>\n",
              "      <td>Russia</td>\n",
              "      <td>Switzerland</td>\n",
              "      <td>43025</td>\n",
              "      <td>10</td>\n",
              "      <td>1</td>\n",
              "      <td>30</td>\n",
              "      <td>34</td>\n",
              "      <td>83</td>\n",
              "      <td>270</td>\n",
              "      <td>24</td>\n",
              "      <td>82</td>\n",
              "      <td>240</td>\n",
              "    </tr>\n",
              "    <tr>\n",
              "      <th>4</th>\n",
              "      <td>0</td>\n",
              "      <td>USA</td>\n",
              "      <td>USA</td>\n",
              "      <td>43026</td>\n",
              "      <td>-7</td>\n",
              "      <td>0</td>\n",
              "      <td>14</td>\n",
              "      <td>25</td>\n",
              "      <td>83</td>\n",
              "      <td>279</td>\n",
              "      <td>32</td>\n",
              "      <td>83</td>\n",
              "      <td>265</td>\n",
              "    </tr>\n",
              "  </tbody>\n",
              "</table>\n",
              "</div>"
            ],
            "text/plain": [
              "   Home Player Win  ... Away Player Weight (Lbs)\n",
              "0                0  ...                      191\n",
              "1                0  ...                      290\n",
              "2                0  ...                      245\n",
              "3                0  ...                      240\n",
              "4                0  ...                      265\n",
              "\n",
              "[5 rows x 13 columns]"
            ]
          },
          "metadata": {
            "tags": []
          },
          "execution_count": 2
        }
      ]
    },
    {
      "cell_type": "code",
      "metadata": {
        "id": "Tfv5YXcnxIVa",
        "colab_type": "code",
        "colab": {}
      },
      "source": [
        "copyofdata = Data.copy() "
      ],
      "execution_count": 0,
      "outputs": []
    },
    {
      "cell_type": "markdown",
      "metadata": {
        "id": "SzxlwdfGluKA",
        "colab_type": "text"
      },
      "source": [
        "## Preprocessing the data"
      ]
    },
    {
      "cell_type": "markdown",
      "metadata": {
        "id": "PR18F-g5VaZa",
        "colab_type": "text"
      },
      "source": [
        "As all the models that will be built in this code work with numeric attributes, it is necessary to hot encode those attributes that contain categorical values, such as Home Player Country and Away Player Country.\n",
        "\n",
        "In addition, the two first rows have been created as fake rows, in order to include the min and max observations of all players to perform normalization.\n",
        "\n",
        "This rows will be later deleted."
      ]
    },
    {
      "cell_type": "code",
      "metadata": {
        "id": "dqD7KMGBBheO",
        "colab_type": "code",
        "colab": {
          "base_uri": "https://localhost:8080/",
          "height": 292
        },
        "outputId": "4eb07045-4b21-4e13-a3de-b8d645fff626"
      },
      "source": [
        "columns = Data.columns\n",
        "\n",
        "Data.head()"
      ],
      "execution_count": 19,
      "outputs": [
        {
          "output_type": "execute_result",
          "data": {
            "text/html": [
              "<div>\n",
              "<style scoped>\n",
              "    .dataframe tbody tr th:only-of-type {\n",
              "        vertical-align: middle;\n",
              "    }\n",
              "\n",
              "    .dataframe tbody tr th {\n",
              "        vertical-align: top;\n",
              "    }\n",
              "\n",
              "    .dataframe thead th {\n",
              "        text-align: right;\n",
              "    }\n",
              "</style>\n",
              "<table border=\"1\" class=\"dataframe\">\n",
              "  <thead>\n",
              "    <tr style=\"text-align: right;\">\n",
              "      <th></th>\n",
              "      <th>Home Player Win</th>\n",
              "      <th>Home Player Country</th>\n",
              "      <th>Away Player Country</th>\n",
              "      <th>Date</th>\n",
              "      <th>Difference of Age:  Home Player</th>\n",
              "      <th>Difference Height: Home Player</th>\n",
              "      <th>Difference Weight: Home Player</th>\n",
              "      <th>Home Player Age</th>\n",
              "      <th>Home Player Height (Inches)</th>\n",
              "      <th>Home Player Weight (Lbs)</th>\n",
              "      <th>Away Player Age</th>\n",
              "      <th>Away Player Height (Inches)</th>\n",
              "      <th>Away Player Weight (Lbs)</th>\n",
              "    </tr>\n",
              "  </thead>\n",
              "  <tbody>\n",
              "    <tr>\n",
              "      <th>0</th>\n",
              "      <td>0</td>\n",
              "      <td>NNN</td>\n",
              "      <td>NNN</td>\n",
              "      <td>43025</td>\n",
              "      <td>18</td>\n",
              "      <td>11</td>\n",
              "      <td>99</td>\n",
              "      <td>38</td>\n",
              "      <td>87</td>\n",
              "      <td>290</td>\n",
              "      <td>20</td>\n",
              "      <td>76</td>\n",
              "      <td>191</td>\n",
              "    </tr>\n",
              "    <tr>\n",
              "      <th>1</th>\n",
              "      <td>0</td>\n",
              "      <td>NNN</td>\n",
              "      <td>NNN</td>\n",
              "      <td>43025</td>\n",
              "      <td>-18</td>\n",
              "      <td>-11</td>\n",
              "      <td>-99</td>\n",
              "      <td>20</td>\n",
              "      <td>76</td>\n",
              "      <td>191</td>\n",
              "      <td>38</td>\n",
              "      <td>87</td>\n",
              "      <td>290</td>\n",
              "    </tr>\n",
              "    <tr>\n",
              "      <th>2</th>\n",
              "      <td>0</td>\n",
              "      <td>USA</td>\n",
              "      <td>Dominican Republic</td>\n",
              "      <td>43025</td>\n",
              "      <td>-2</td>\n",
              "      <td>0</td>\n",
              "      <td>6</td>\n",
              "      <td>30</td>\n",
              "      <td>82</td>\n",
              "      <td>251</td>\n",
              "      <td>32</td>\n",
              "      <td>82</td>\n",
              "      <td>245</td>\n",
              "    </tr>\n",
              "    <tr>\n",
              "      <th>3</th>\n",
              "      <td>0</td>\n",
              "      <td>Russia</td>\n",
              "      <td>Switzerland</td>\n",
              "      <td>43025</td>\n",
              "      <td>10</td>\n",
              "      <td>1</td>\n",
              "      <td>30</td>\n",
              "      <td>34</td>\n",
              "      <td>83</td>\n",
              "      <td>270</td>\n",
              "      <td>24</td>\n",
              "      <td>82</td>\n",
              "      <td>240</td>\n",
              "    </tr>\n",
              "    <tr>\n",
              "      <th>4</th>\n",
              "      <td>0</td>\n",
              "      <td>USA</td>\n",
              "      <td>USA</td>\n",
              "      <td>43026</td>\n",
              "      <td>-7</td>\n",
              "      <td>0</td>\n",
              "      <td>14</td>\n",
              "      <td>25</td>\n",
              "      <td>83</td>\n",
              "      <td>279</td>\n",
              "      <td>32</td>\n",
              "      <td>83</td>\n",
              "      <td>265</td>\n",
              "    </tr>\n",
              "  </tbody>\n",
              "</table>\n",
              "</div>"
            ],
            "text/plain": [
              "   Home Player Win  ... Away Player Weight (Lbs)\n",
              "0                0  ...                      191\n",
              "1                0  ...                      290\n",
              "2                0  ...                      245\n",
              "3                0  ...                      240\n",
              "4                0  ...                      265\n",
              "\n",
              "[5 rows x 13 columns]"
            ]
          },
          "metadata": {
            "tags": []
          },
          "execution_count": 19
        }
      ]
    },
    {
      "cell_type": "code",
      "metadata": {
        "id": "Qme_q7lVlwt5",
        "colab_type": "code",
        "outputId": "55f2f945-b21d-4fb1-cdf8-d91cb3dfad57",
        "colab": {
          "base_uri": "https://localhost:8080/",
          "height": 275
        }
      },
      "source": [
        "# Converting the home countries to binary with hot encode\n",
        "\n",
        "Data = pd.get_dummies(Data, columns=[\"Home Player Country\"])\n",
        "\n",
        "Data = pd.get_dummies(Data, columns=[\"Away Player Country\"])\n",
        "\n",
        "columns = Data.columns\n",
        "\n",
        "Data.head()"
      ],
      "execution_count": 20,
      "outputs": [
        {
          "output_type": "execute_result",
          "data": {
            "text/html": [
              "<div>\n",
              "<style scoped>\n",
              "    .dataframe tbody tr th:only-of-type {\n",
              "        vertical-align: middle;\n",
              "    }\n",
              "\n",
              "    .dataframe tbody tr th {\n",
              "        vertical-align: top;\n",
              "    }\n",
              "\n",
              "    .dataframe thead th {\n",
              "        text-align: right;\n",
              "    }\n",
              "</style>\n",
              "<table border=\"1\" class=\"dataframe\">\n",
              "  <thead>\n",
              "    <tr style=\"text-align: right;\">\n",
              "      <th></th>\n",
              "      <th>Home Player Win</th>\n",
              "      <th>Date</th>\n",
              "      <th>Difference of Age:  Home Player</th>\n",
              "      <th>Difference Height: Home Player</th>\n",
              "      <th>Difference Weight: Home Player</th>\n",
              "      <th>Home Player Age</th>\n",
              "      <th>Home Player Height (Inches)</th>\n",
              "      <th>Home Player Weight (Lbs)</th>\n",
              "      <th>Away Player Age</th>\n",
              "      <th>Away Player Height (Inches)</th>\n",
              "      <th>Away Player Weight (Lbs)</th>\n",
              "      <th>Home Player Country_Australia</th>\n",
              "      <th>Home Player Country_Bosnia and Herzegovina</th>\n",
              "      <th>Home Player Country_Brazil</th>\n",
              "      <th>Home Player Country_Cameroon</th>\n",
              "      <th>Home Player Country_Canada</th>\n",
              "      <th>Home Player Country_Croatia</th>\n",
              "      <th>Home Player Country_Democratic Republic of Congo</th>\n",
              "      <th>Home Player Country_Dominican Republic</th>\n",
              "      <th>Home Player Country_France</th>\n",
              "      <th>Home Player Country_Germany</th>\n",
              "      <th>Home Player Country_Greece</th>\n",
              "      <th>Home Player Country_Haiti</th>\n",
              "      <th>Home Player Country_Latvia</th>\n",
              "      <th>Home Player Country_Lithuania</th>\n",
              "      <th>Home Player Country_Montenegro</th>\n",
              "      <th>Home Player Country_NNN</th>\n",
              "      <th>Home Player Country_New Zealand</th>\n",
              "      <th>Home Player Country_Poland</th>\n",
              "      <th>Home Player Country_Russia</th>\n",
              "      <th>Home Player Country_Serbia</th>\n",
              "      <th>Home Player Country_South Sudan</th>\n",
              "      <th>Home Player Country_Spain</th>\n",
              "      <th>Home Player Country_Switzerland</th>\n",
              "      <th>Home Player Country_USA</th>\n",
              "      <th>Home Player Country_Ukraine</th>\n",
              "      <th>Away Player Country_Australia</th>\n",
              "      <th>Away Player Country_Bosnia and Herzegovina</th>\n",
              "      <th>Away Player Country_Brazil</th>\n",
              "      <th>Away Player Country_Cameroon</th>\n",
              "      <th>Away Player Country_Canada</th>\n",
              "      <th>Away Player Country_Croatia</th>\n",
              "      <th>Away Player Country_Democratic Republic of Congo</th>\n",
              "      <th>Away Player Country_Dominican Republic</th>\n",
              "      <th>Away Player Country_France</th>\n",
              "      <th>Away Player Country_Germany</th>\n",
              "      <th>Away Player Country_Greece</th>\n",
              "      <th>Away Player Country_Haiti</th>\n",
              "      <th>Away Player Country_Israel</th>\n",
              "      <th>Away Player Country_Latvia</th>\n",
              "      <th>Away Player Country_Lithuania</th>\n",
              "      <th>Away Player Country_Montenegro</th>\n",
              "      <th>Away Player Country_NBA</th>\n",
              "      <th>Away Player Country_NNN</th>\n",
              "      <th>Away Player Country_New Zealand</th>\n",
              "      <th>Away Player Country_Poland</th>\n",
              "      <th>Away Player Country_Russia</th>\n",
              "      <th>Away Player Country_Serbia</th>\n",
              "      <th>Away Player Country_South Sudan</th>\n",
              "      <th>Away Player Country_Spain</th>\n",
              "      <th>Away Player Country_Switzerland</th>\n",
              "      <th>Away Player Country_Tunisia</th>\n",
              "      <th>Away Player Country_USA</th>\n",
              "      <th>Away Player Country_Ukraine</th>\n",
              "    </tr>\n",
              "  </thead>\n",
              "  <tbody>\n",
              "    <tr>\n",
              "      <th>0</th>\n",
              "      <td>0</td>\n",
              "      <td>43025</td>\n",
              "      <td>18</td>\n",
              "      <td>11</td>\n",
              "      <td>99</td>\n",
              "      <td>38</td>\n",
              "      <td>87</td>\n",
              "      <td>290</td>\n",
              "      <td>20</td>\n",
              "      <td>76</td>\n",
              "      <td>191</td>\n",
              "      <td>0</td>\n",
              "      <td>0</td>\n",
              "      <td>0</td>\n",
              "      <td>0</td>\n",
              "      <td>0</td>\n",
              "      <td>0</td>\n",
              "      <td>0</td>\n",
              "      <td>0</td>\n",
              "      <td>0</td>\n",
              "      <td>0</td>\n",
              "      <td>0</td>\n",
              "      <td>0</td>\n",
              "      <td>0</td>\n",
              "      <td>0</td>\n",
              "      <td>0</td>\n",
              "      <td>1</td>\n",
              "      <td>0</td>\n",
              "      <td>0</td>\n",
              "      <td>0</td>\n",
              "      <td>0</td>\n",
              "      <td>0</td>\n",
              "      <td>0</td>\n",
              "      <td>0</td>\n",
              "      <td>0</td>\n",
              "      <td>0</td>\n",
              "      <td>0</td>\n",
              "      <td>0</td>\n",
              "      <td>0</td>\n",
              "      <td>0</td>\n",
              "      <td>0</td>\n",
              "      <td>0</td>\n",
              "      <td>0</td>\n",
              "      <td>0</td>\n",
              "      <td>0</td>\n",
              "      <td>0</td>\n",
              "      <td>0</td>\n",
              "      <td>0</td>\n",
              "      <td>0</td>\n",
              "      <td>0</td>\n",
              "      <td>0</td>\n",
              "      <td>0</td>\n",
              "      <td>0</td>\n",
              "      <td>1</td>\n",
              "      <td>0</td>\n",
              "      <td>0</td>\n",
              "      <td>0</td>\n",
              "      <td>0</td>\n",
              "      <td>0</td>\n",
              "      <td>0</td>\n",
              "      <td>0</td>\n",
              "      <td>0</td>\n",
              "      <td>0</td>\n",
              "      <td>0</td>\n",
              "    </tr>\n",
              "    <tr>\n",
              "      <th>1</th>\n",
              "      <td>0</td>\n",
              "      <td>43025</td>\n",
              "      <td>-18</td>\n",
              "      <td>-11</td>\n",
              "      <td>-99</td>\n",
              "      <td>20</td>\n",
              "      <td>76</td>\n",
              "      <td>191</td>\n",
              "      <td>38</td>\n",
              "      <td>87</td>\n",
              "      <td>290</td>\n",
              "      <td>0</td>\n",
              "      <td>0</td>\n",
              "      <td>0</td>\n",
              "      <td>0</td>\n",
              "      <td>0</td>\n",
              "      <td>0</td>\n",
              "      <td>0</td>\n",
              "      <td>0</td>\n",
              "      <td>0</td>\n",
              "      <td>0</td>\n",
              "      <td>0</td>\n",
              "      <td>0</td>\n",
              "      <td>0</td>\n",
              "      <td>0</td>\n",
              "      <td>0</td>\n",
              "      <td>1</td>\n",
              "      <td>0</td>\n",
              "      <td>0</td>\n",
              "      <td>0</td>\n",
              "      <td>0</td>\n",
              "      <td>0</td>\n",
              "      <td>0</td>\n",
              "      <td>0</td>\n",
              "      <td>0</td>\n",
              "      <td>0</td>\n",
              "      <td>0</td>\n",
              "      <td>0</td>\n",
              "      <td>0</td>\n",
              "      <td>0</td>\n",
              "      <td>0</td>\n",
              "      <td>0</td>\n",
              "      <td>0</td>\n",
              "      <td>0</td>\n",
              "      <td>0</td>\n",
              "      <td>0</td>\n",
              "      <td>0</td>\n",
              "      <td>0</td>\n",
              "      <td>0</td>\n",
              "      <td>0</td>\n",
              "      <td>0</td>\n",
              "      <td>0</td>\n",
              "      <td>0</td>\n",
              "      <td>1</td>\n",
              "      <td>0</td>\n",
              "      <td>0</td>\n",
              "      <td>0</td>\n",
              "      <td>0</td>\n",
              "      <td>0</td>\n",
              "      <td>0</td>\n",
              "      <td>0</td>\n",
              "      <td>0</td>\n",
              "      <td>0</td>\n",
              "      <td>0</td>\n",
              "    </tr>\n",
              "    <tr>\n",
              "      <th>2</th>\n",
              "      <td>0</td>\n",
              "      <td>43025</td>\n",
              "      <td>-2</td>\n",
              "      <td>0</td>\n",
              "      <td>6</td>\n",
              "      <td>30</td>\n",
              "      <td>82</td>\n",
              "      <td>251</td>\n",
              "      <td>32</td>\n",
              "      <td>82</td>\n",
              "      <td>245</td>\n",
              "      <td>0</td>\n",
              "      <td>0</td>\n",
              "      <td>0</td>\n",
              "      <td>0</td>\n",
              "      <td>0</td>\n",
              "      <td>0</td>\n",
              "      <td>0</td>\n",
              "      <td>0</td>\n",
              "      <td>0</td>\n",
              "      <td>0</td>\n",
              "      <td>0</td>\n",
              "      <td>0</td>\n",
              "      <td>0</td>\n",
              "      <td>0</td>\n",
              "      <td>0</td>\n",
              "      <td>0</td>\n",
              "      <td>0</td>\n",
              "      <td>0</td>\n",
              "      <td>0</td>\n",
              "      <td>0</td>\n",
              "      <td>0</td>\n",
              "      <td>0</td>\n",
              "      <td>0</td>\n",
              "      <td>1</td>\n",
              "      <td>0</td>\n",
              "      <td>0</td>\n",
              "      <td>0</td>\n",
              "      <td>0</td>\n",
              "      <td>0</td>\n",
              "      <td>0</td>\n",
              "      <td>0</td>\n",
              "      <td>0</td>\n",
              "      <td>1</td>\n",
              "      <td>0</td>\n",
              "      <td>0</td>\n",
              "      <td>0</td>\n",
              "      <td>0</td>\n",
              "      <td>0</td>\n",
              "      <td>0</td>\n",
              "      <td>0</td>\n",
              "      <td>0</td>\n",
              "      <td>0</td>\n",
              "      <td>0</td>\n",
              "      <td>0</td>\n",
              "      <td>0</td>\n",
              "      <td>0</td>\n",
              "      <td>0</td>\n",
              "      <td>0</td>\n",
              "      <td>0</td>\n",
              "      <td>0</td>\n",
              "      <td>0</td>\n",
              "      <td>0</td>\n",
              "      <td>0</td>\n",
              "    </tr>\n",
              "    <tr>\n",
              "      <th>3</th>\n",
              "      <td>0</td>\n",
              "      <td>43025</td>\n",
              "      <td>10</td>\n",
              "      <td>1</td>\n",
              "      <td>30</td>\n",
              "      <td>34</td>\n",
              "      <td>83</td>\n",
              "      <td>270</td>\n",
              "      <td>24</td>\n",
              "      <td>82</td>\n",
              "      <td>240</td>\n",
              "      <td>0</td>\n",
              "      <td>0</td>\n",
              "      <td>0</td>\n",
              "      <td>0</td>\n",
              "      <td>0</td>\n",
              "      <td>0</td>\n",
              "      <td>0</td>\n",
              "      <td>0</td>\n",
              "      <td>0</td>\n",
              "      <td>0</td>\n",
              "      <td>0</td>\n",
              "      <td>0</td>\n",
              "      <td>0</td>\n",
              "      <td>0</td>\n",
              "      <td>0</td>\n",
              "      <td>0</td>\n",
              "      <td>0</td>\n",
              "      <td>0</td>\n",
              "      <td>1</td>\n",
              "      <td>0</td>\n",
              "      <td>0</td>\n",
              "      <td>0</td>\n",
              "      <td>0</td>\n",
              "      <td>0</td>\n",
              "      <td>0</td>\n",
              "      <td>0</td>\n",
              "      <td>0</td>\n",
              "      <td>0</td>\n",
              "      <td>0</td>\n",
              "      <td>0</td>\n",
              "      <td>0</td>\n",
              "      <td>0</td>\n",
              "      <td>0</td>\n",
              "      <td>0</td>\n",
              "      <td>0</td>\n",
              "      <td>0</td>\n",
              "      <td>0</td>\n",
              "      <td>0</td>\n",
              "      <td>0</td>\n",
              "      <td>0</td>\n",
              "      <td>0</td>\n",
              "      <td>0</td>\n",
              "      <td>0</td>\n",
              "      <td>0</td>\n",
              "      <td>0</td>\n",
              "      <td>0</td>\n",
              "      <td>0</td>\n",
              "      <td>0</td>\n",
              "      <td>0</td>\n",
              "      <td>1</td>\n",
              "      <td>0</td>\n",
              "      <td>0</td>\n",
              "      <td>0</td>\n",
              "    </tr>\n",
              "    <tr>\n",
              "      <th>4</th>\n",
              "      <td>0</td>\n",
              "      <td>43026</td>\n",
              "      <td>-7</td>\n",
              "      <td>0</td>\n",
              "      <td>14</td>\n",
              "      <td>25</td>\n",
              "      <td>83</td>\n",
              "      <td>279</td>\n",
              "      <td>32</td>\n",
              "      <td>83</td>\n",
              "      <td>265</td>\n",
              "      <td>0</td>\n",
              "      <td>0</td>\n",
              "      <td>0</td>\n",
              "      <td>0</td>\n",
              "      <td>0</td>\n",
              "      <td>0</td>\n",
              "      <td>0</td>\n",
              "      <td>0</td>\n",
              "      <td>0</td>\n",
              "      <td>0</td>\n",
              "      <td>0</td>\n",
              "      <td>0</td>\n",
              "      <td>0</td>\n",
              "      <td>0</td>\n",
              "      <td>0</td>\n",
              "      <td>0</td>\n",
              "      <td>0</td>\n",
              "      <td>0</td>\n",
              "      <td>0</td>\n",
              "      <td>0</td>\n",
              "      <td>0</td>\n",
              "      <td>0</td>\n",
              "      <td>0</td>\n",
              "      <td>1</td>\n",
              "      <td>0</td>\n",
              "      <td>0</td>\n",
              "      <td>0</td>\n",
              "      <td>0</td>\n",
              "      <td>0</td>\n",
              "      <td>0</td>\n",
              "      <td>0</td>\n",
              "      <td>0</td>\n",
              "      <td>0</td>\n",
              "      <td>0</td>\n",
              "      <td>0</td>\n",
              "      <td>0</td>\n",
              "      <td>0</td>\n",
              "      <td>0</td>\n",
              "      <td>0</td>\n",
              "      <td>0</td>\n",
              "      <td>0</td>\n",
              "      <td>0</td>\n",
              "      <td>0</td>\n",
              "      <td>0</td>\n",
              "      <td>0</td>\n",
              "      <td>0</td>\n",
              "      <td>0</td>\n",
              "      <td>0</td>\n",
              "      <td>0</td>\n",
              "      <td>0</td>\n",
              "      <td>0</td>\n",
              "      <td>1</td>\n",
              "      <td>0</td>\n",
              "    </tr>\n",
              "  </tbody>\n",
              "</table>\n",
              "</div>"
            ],
            "text/plain": [
              "   Home Player Win   Date  ...  Away Player Country_USA  Away Player Country_Ukraine\n",
              "0                0  43025  ...                        0                            0\n",
              "1                0  43025  ...                        0                            0\n",
              "2                0  43025  ...                        0                            0\n",
              "3                0  43025  ...                        0                            0\n",
              "4                0  43026  ...                        1                            0\n",
              "\n",
              "[5 rows x 64 columns]"
            ]
          },
          "metadata": {
            "tags": []
          },
          "execution_count": 20
        }
      ]
    },
    {
      "cell_type": "markdown",
      "metadata": {
        "id": "qhoie6NaVuvb",
        "colab_type": "text"
      },
      "source": [
        "It is also a good practice to normilize the data, so all values are trasformed to a number in a range of 0 and 1."
      ]
    },
    {
      "cell_type": "code",
      "metadata": {
        "id": "MrS6GupIoIOn",
        "colab_type": "code",
        "outputId": "7562218a-0c31-4e7c-d811-27ecf80907fa",
        "colab": {
          "base_uri": "https://localhost:8080/",
          "height": 34
        }
      },
      "source": [
        "# Normalizing data\n",
        "\n",
        "\n",
        "# Applying the minmax normalization.\n",
        "min_max_scaler = preprocessing.MinMaxScaler()\n",
        "x_scaled = min_max_scaler.fit_transform(Data.iloc[:,:])\n",
        "\n",
        "\n",
        "x_scaled.shape"
      ],
      "execution_count": 22,
      "outputs": [
        {
          "output_type": "execute_result",
          "data": {
            "text/plain": [
              "(1293, 64)"
            ]
          },
          "metadata": {
            "tags": []
          },
          "execution_count": 22
        }
      ]
    },
    {
      "cell_type": "code",
      "metadata": {
        "id": "5Ov03u14aGXa",
        "colab_type": "code",
        "outputId": "c5d206c3-f25d-4566-cde5-628f1e234171",
        "colab": {
          "base_uri": "https://localhost:8080/",
          "height": 275
        }
      },
      "source": [
        "Data = pd.DataFrame(x_scaled)\n",
        "Data.columns = columns[:]\n",
        "\n",
        "Data.head()\n",
        "\n"
      ],
      "execution_count": 23,
      "outputs": [
        {
          "output_type": "execute_result",
          "data": {
            "text/html": [
              "<div>\n",
              "<style scoped>\n",
              "    .dataframe tbody tr th:only-of-type {\n",
              "        vertical-align: middle;\n",
              "    }\n",
              "\n",
              "    .dataframe tbody tr th {\n",
              "        vertical-align: top;\n",
              "    }\n",
              "\n",
              "    .dataframe thead th {\n",
              "        text-align: right;\n",
              "    }\n",
              "</style>\n",
              "<table border=\"1\" class=\"dataframe\">\n",
              "  <thead>\n",
              "    <tr style=\"text-align: right;\">\n",
              "      <th></th>\n",
              "      <th>Home Player Win</th>\n",
              "      <th>Date</th>\n",
              "      <th>Difference of Age:  Home Player</th>\n",
              "      <th>Difference Height: Home Player</th>\n",
              "      <th>Difference Weight: Home Player</th>\n",
              "      <th>Home Player Age</th>\n",
              "      <th>Home Player Height (Inches)</th>\n",
              "      <th>Home Player Weight (Lbs)</th>\n",
              "      <th>Away Player Age</th>\n",
              "      <th>Away Player Height (Inches)</th>\n",
              "      <th>Away Player Weight (Lbs)</th>\n",
              "      <th>Home Player Country_Australia</th>\n",
              "      <th>Home Player Country_Bosnia and Herzegovina</th>\n",
              "      <th>Home Player Country_Brazil</th>\n",
              "      <th>Home Player Country_Cameroon</th>\n",
              "      <th>Home Player Country_Canada</th>\n",
              "      <th>Home Player Country_Croatia</th>\n",
              "      <th>Home Player Country_Democratic Republic of Congo</th>\n",
              "      <th>Home Player Country_Dominican Republic</th>\n",
              "      <th>Home Player Country_France</th>\n",
              "      <th>Home Player Country_Germany</th>\n",
              "      <th>Home Player Country_Greece</th>\n",
              "      <th>Home Player Country_Haiti</th>\n",
              "      <th>Home Player Country_Latvia</th>\n",
              "      <th>Home Player Country_Lithuania</th>\n",
              "      <th>Home Player Country_Montenegro</th>\n",
              "      <th>Home Player Country_NNN</th>\n",
              "      <th>Home Player Country_New Zealand</th>\n",
              "      <th>Home Player Country_Poland</th>\n",
              "      <th>Home Player Country_Russia</th>\n",
              "      <th>Home Player Country_Serbia</th>\n",
              "      <th>Home Player Country_South Sudan</th>\n",
              "      <th>Home Player Country_Spain</th>\n",
              "      <th>Home Player Country_Switzerland</th>\n",
              "      <th>Home Player Country_USA</th>\n",
              "      <th>Home Player Country_Ukraine</th>\n",
              "      <th>Away Player Country_Australia</th>\n",
              "      <th>Away Player Country_Bosnia and Herzegovina</th>\n",
              "      <th>Away Player Country_Brazil</th>\n",
              "      <th>Away Player Country_Cameroon</th>\n",
              "      <th>Away Player Country_Canada</th>\n",
              "      <th>Away Player Country_Croatia</th>\n",
              "      <th>Away Player Country_Democratic Republic of Congo</th>\n",
              "      <th>Away Player Country_Dominican Republic</th>\n",
              "      <th>Away Player Country_France</th>\n",
              "      <th>Away Player Country_Germany</th>\n",
              "      <th>Away Player Country_Greece</th>\n",
              "      <th>Away Player Country_Haiti</th>\n",
              "      <th>Away Player Country_Israel</th>\n",
              "      <th>Away Player Country_Latvia</th>\n",
              "      <th>Away Player Country_Lithuania</th>\n",
              "      <th>Away Player Country_Montenegro</th>\n",
              "      <th>Away Player Country_NBA</th>\n",
              "      <th>Away Player Country_NNN</th>\n",
              "      <th>Away Player Country_New Zealand</th>\n",
              "      <th>Away Player Country_Poland</th>\n",
              "      <th>Away Player Country_Russia</th>\n",
              "      <th>Away Player Country_Serbia</th>\n",
              "      <th>Away Player Country_South Sudan</th>\n",
              "      <th>Away Player Country_Spain</th>\n",
              "      <th>Away Player Country_Switzerland</th>\n",
              "      <th>Away Player Country_Tunisia</th>\n",
              "      <th>Away Player Country_USA</th>\n",
              "      <th>Away Player Country_Ukraine</th>\n",
              "    </tr>\n",
              "  </thead>\n",
              "  <tbody>\n",
              "    <tr>\n",
              "      <th>0</th>\n",
              "      <td>0.0</td>\n",
              "      <td>0.000000</td>\n",
              "      <td>1.000000</td>\n",
              "      <td>1.000000</td>\n",
              "      <td>1.000000</td>\n",
              "      <td>1.000000</td>\n",
              "      <td>1.000000</td>\n",
              "      <td>1.000000</td>\n",
              "      <td>0.000000</td>\n",
              "      <td>0.000000</td>\n",
              "      <td>0.000000</td>\n",
              "      <td>0.0</td>\n",
              "      <td>0.0</td>\n",
              "      <td>0.0</td>\n",
              "      <td>0.0</td>\n",
              "      <td>0.0</td>\n",
              "      <td>0.0</td>\n",
              "      <td>0.0</td>\n",
              "      <td>0.0</td>\n",
              "      <td>0.0</td>\n",
              "      <td>0.0</td>\n",
              "      <td>0.0</td>\n",
              "      <td>0.0</td>\n",
              "      <td>0.0</td>\n",
              "      <td>0.0</td>\n",
              "      <td>0.0</td>\n",
              "      <td>1.0</td>\n",
              "      <td>0.0</td>\n",
              "      <td>0.0</td>\n",
              "      <td>0.0</td>\n",
              "      <td>0.0</td>\n",
              "      <td>0.0</td>\n",
              "      <td>0.0</td>\n",
              "      <td>0.0</td>\n",
              "      <td>0.0</td>\n",
              "      <td>0.0</td>\n",
              "      <td>0.0</td>\n",
              "      <td>0.0</td>\n",
              "      <td>0.0</td>\n",
              "      <td>0.0</td>\n",
              "      <td>0.0</td>\n",
              "      <td>0.0</td>\n",
              "      <td>0.0</td>\n",
              "      <td>0.0</td>\n",
              "      <td>0.0</td>\n",
              "      <td>0.0</td>\n",
              "      <td>0.0</td>\n",
              "      <td>0.0</td>\n",
              "      <td>0.0</td>\n",
              "      <td>0.0</td>\n",
              "      <td>0.0</td>\n",
              "      <td>0.0</td>\n",
              "      <td>0.0</td>\n",
              "      <td>1.0</td>\n",
              "      <td>0.0</td>\n",
              "      <td>0.0</td>\n",
              "      <td>0.0</td>\n",
              "      <td>0.0</td>\n",
              "      <td>0.0</td>\n",
              "      <td>0.0</td>\n",
              "      <td>0.0</td>\n",
              "      <td>0.0</td>\n",
              "      <td>0.0</td>\n",
              "      <td>0.0</td>\n",
              "    </tr>\n",
              "    <tr>\n",
              "      <th>1</th>\n",
              "      <td>0.0</td>\n",
              "      <td>0.000000</td>\n",
              "      <td>0.000000</td>\n",
              "      <td>0.000000</td>\n",
              "      <td>0.000000</td>\n",
              "      <td>0.000000</td>\n",
              "      <td>0.000000</td>\n",
              "      <td>0.000000</td>\n",
              "      <td>1.000000</td>\n",
              "      <td>1.000000</td>\n",
              "      <td>1.000000</td>\n",
              "      <td>0.0</td>\n",
              "      <td>0.0</td>\n",
              "      <td>0.0</td>\n",
              "      <td>0.0</td>\n",
              "      <td>0.0</td>\n",
              "      <td>0.0</td>\n",
              "      <td>0.0</td>\n",
              "      <td>0.0</td>\n",
              "      <td>0.0</td>\n",
              "      <td>0.0</td>\n",
              "      <td>0.0</td>\n",
              "      <td>0.0</td>\n",
              "      <td>0.0</td>\n",
              "      <td>0.0</td>\n",
              "      <td>0.0</td>\n",
              "      <td>1.0</td>\n",
              "      <td>0.0</td>\n",
              "      <td>0.0</td>\n",
              "      <td>0.0</td>\n",
              "      <td>0.0</td>\n",
              "      <td>0.0</td>\n",
              "      <td>0.0</td>\n",
              "      <td>0.0</td>\n",
              "      <td>0.0</td>\n",
              "      <td>0.0</td>\n",
              "      <td>0.0</td>\n",
              "      <td>0.0</td>\n",
              "      <td>0.0</td>\n",
              "      <td>0.0</td>\n",
              "      <td>0.0</td>\n",
              "      <td>0.0</td>\n",
              "      <td>0.0</td>\n",
              "      <td>0.0</td>\n",
              "      <td>0.0</td>\n",
              "      <td>0.0</td>\n",
              "      <td>0.0</td>\n",
              "      <td>0.0</td>\n",
              "      <td>0.0</td>\n",
              "      <td>0.0</td>\n",
              "      <td>0.0</td>\n",
              "      <td>0.0</td>\n",
              "      <td>0.0</td>\n",
              "      <td>1.0</td>\n",
              "      <td>0.0</td>\n",
              "      <td>0.0</td>\n",
              "      <td>0.0</td>\n",
              "      <td>0.0</td>\n",
              "      <td>0.0</td>\n",
              "      <td>0.0</td>\n",
              "      <td>0.0</td>\n",
              "      <td>0.0</td>\n",
              "      <td>0.0</td>\n",
              "      <td>0.0</td>\n",
              "    </tr>\n",
              "    <tr>\n",
              "      <th>2</th>\n",
              "      <td>0.0</td>\n",
              "      <td>0.000000</td>\n",
              "      <td>0.444444</td>\n",
              "      <td>0.500000</td>\n",
              "      <td>0.530303</td>\n",
              "      <td>0.555556</td>\n",
              "      <td>0.545455</td>\n",
              "      <td>0.606061</td>\n",
              "      <td>0.666667</td>\n",
              "      <td>0.545455</td>\n",
              "      <td>0.545455</td>\n",
              "      <td>0.0</td>\n",
              "      <td>0.0</td>\n",
              "      <td>0.0</td>\n",
              "      <td>0.0</td>\n",
              "      <td>0.0</td>\n",
              "      <td>0.0</td>\n",
              "      <td>0.0</td>\n",
              "      <td>0.0</td>\n",
              "      <td>0.0</td>\n",
              "      <td>0.0</td>\n",
              "      <td>0.0</td>\n",
              "      <td>0.0</td>\n",
              "      <td>0.0</td>\n",
              "      <td>0.0</td>\n",
              "      <td>0.0</td>\n",
              "      <td>0.0</td>\n",
              "      <td>0.0</td>\n",
              "      <td>0.0</td>\n",
              "      <td>0.0</td>\n",
              "      <td>0.0</td>\n",
              "      <td>0.0</td>\n",
              "      <td>0.0</td>\n",
              "      <td>0.0</td>\n",
              "      <td>1.0</td>\n",
              "      <td>0.0</td>\n",
              "      <td>0.0</td>\n",
              "      <td>0.0</td>\n",
              "      <td>0.0</td>\n",
              "      <td>0.0</td>\n",
              "      <td>0.0</td>\n",
              "      <td>0.0</td>\n",
              "      <td>0.0</td>\n",
              "      <td>1.0</td>\n",
              "      <td>0.0</td>\n",
              "      <td>0.0</td>\n",
              "      <td>0.0</td>\n",
              "      <td>0.0</td>\n",
              "      <td>0.0</td>\n",
              "      <td>0.0</td>\n",
              "      <td>0.0</td>\n",
              "      <td>0.0</td>\n",
              "      <td>0.0</td>\n",
              "      <td>0.0</td>\n",
              "      <td>0.0</td>\n",
              "      <td>0.0</td>\n",
              "      <td>0.0</td>\n",
              "      <td>0.0</td>\n",
              "      <td>0.0</td>\n",
              "      <td>0.0</td>\n",
              "      <td>0.0</td>\n",
              "      <td>0.0</td>\n",
              "      <td>0.0</td>\n",
              "      <td>0.0</td>\n",
              "    </tr>\n",
              "    <tr>\n",
              "      <th>3</th>\n",
              "      <td>0.0</td>\n",
              "      <td>0.000000</td>\n",
              "      <td>0.777778</td>\n",
              "      <td>0.545455</td>\n",
              "      <td>0.651515</td>\n",
              "      <td>0.777778</td>\n",
              "      <td>0.636364</td>\n",
              "      <td>0.797980</td>\n",
              "      <td>0.222222</td>\n",
              "      <td>0.545455</td>\n",
              "      <td>0.494949</td>\n",
              "      <td>0.0</td>\n",
              "      <td>0.0</td>\n",
              "      <td>0.0</td>\n",
              "      <td>0.0</td>\n",
              "      <td>0.0</td>\n",
              "      <td>0.0</td>\n",
              "      <td>0.0</td>\n",
              "      <td>0.0</td>\n",
              "      <td>0.0</td>\n",
              "      <td>0.0</td>\n",
              "      <td>0.0</td>\n",
              "      <td>0.0</td>\n",
              "      <td>0.0</td>\n",
              "      <td>0.0</td>\n",
              "      <td>0.0</td>\n",
              "      <td>0.0</td>\n",
              "      <td>0.0</td>\n",
              "      <td>0.0</td>\n",
              "      <td>1.0</td>\n",
              "      <td>0.0</td>\n",
              "      <td>0.0</td>\n",
              "      <td>0.0</td>\n",
              "      <td>0.0</td>\n",
              "      <td>0.0</td>\n",
              "      <td>0.0</td>\n",
              "      <td>0.0</td>\n",
              "      <td>0.0</td>\n",
              "      <td>0.0</td>\n",
              "      <td>0.0</td>\n",
              "      <td>0.0</td>\n",
              "      <td>0.0</td>\n",
              "      <td>0.0</td>\n",
              "      <td>0.0</td>\n",
              "      <td>0.0</td>\n",
              "      <td>0.0</td>\n",
              "      <td>0.0</td>\n",
              "      <td>0.0</td>\n",
              "      <td>0.0</td>\n",
              "      <td>0.0</td>\n",
              "      <td>0.0</td>\n",
              "      <td>0.0</td>\n",
              "      <td>0.0</td>\n",
              "      <td>0.0</td>\n",
              "      <td>0.0</td>\n",
              "      <td>0.0</td>\n",
              "      <td>0.0</td>\n",
              "      <td>0.0</td>\n",
              "      <td>0.0</td>\n",
              "      <td>0.0</td>\n",
              "      <td>1.0</td>\n",
              "      <td>0.0</td>\n",
              "      <td>0.0</td>\n",
              "      <td>0.0</td>\n",
              "    </tr>\n",
              "    <tr>\n",
              "      <th>4</th>\n",
              "      <td>0.0</td>\n",
              "      <td>0.004274</td>\n",
              "      <td>0.305556</td>\n",
              "      <td>0.500000</td>\n",
              "      <td>0.570707</td>\n",
              "      <td>0.277778</td>\n",
              "      <td>0.636364</td>\n",
              "      <td>0.888889</td>\n",
              "      <td>0.666667</td>\n",
              "      <td>0.636364</td>\n",
              "      <td>0.747475</td>\n",
              "      <td>0.0</td>\n",
              "      <td>0.0</td>\n",
              "      <td>0.0</td>\n",
              "      <td>0.0</td>\n",
              "      <td>0.0</td>\n",
              "      <td>0.0</td>\n",
              "      <td>0.0</td>\n",
              "      <td>0.0</td>\n",
              "      <td>0.0</td>\n",
              "      <td>0.0</td>\n",
              "      <td>0.0</td>\n",
              "      <td>0.0</td>\n",
              "      <td>0.0</td>\n",
              "      <td>0.0</td>\n",
              "      <td>0.0</td>\n",
              "      <td>0.0</td>\n",
              "      <td>0.0</td>\n",
              "      <td>0.0</td>\n",
              "      <td>0.0</td>\n",
              "      <td>0.0</td>\n",
              "      <td>0.0</td>\n",
              "      <td>0.0</td>\n",
              "      <td>0.0</td>\n",
              "      <td>1.0</td>\n",
              "      <td>0.0</td>\n",
              "      <td>0.0</td>\n",
              "      <td>0.0</td>\n",
              "      <td>0.0</td>\n",
              "      <td>0.0</td>\n",
              "      <td>0.0</td>\n",
              "      <td>0.0</td>\n",
              "      <td>0.0</td>\n",
              "      <td>0.0</td>\n",
              "      <td>0.0</td>\n",
              "      <td>0.0</td>\n",
              "      <td>0.0</td>\n",
              "      <td>0.0</td>\n",
              "      <td>0.0</td>\n",
              "      <td>0.0</td>\n",
              "      <td>0.0</td>\n",
              "      <td>0.0</td>\n",
              "      <td>0.0</td>\n",
              "      <td>0.0</td>\n",
              "      <td>0.0</td>\n",
              "      <td>0.0</td>\n",
              "      <td>0.0</td>\n",
              "      <td>0.0</td>\n",
              "      <td>0.0</td>\n",
              "      <td>0.0</td>\n",
              "      <td>0.0</td>\n",
              "      <td>0.0</td>\n",
              "      <td>1.0</td>\n",
              "      <td>0.0</td>\n",
              "    </tr>\n",
              "  </tbody>\n",
              "</table>\n",
              "</div>"
            ],
            "text/plain": [
              "   Home Player Win  ...  Away Player Country_Ukraine\n",
              "0              0.0  ...                          0.0\n",
              "1              0.0  ...                          0.0\n",
              "2              0.0  ...                          0.0\n",
              "3              0.0  ...                          0.0\n",
              "4              0.0  ...                          0.0\n",
              "\n",
              "[5 rows x 64 columns]"
            ]
          },
          "metadata": {
            "tags": []
          },
          "execution_count": 23
        }
      ]
    },
    {
      "cell_type": "code",
      "metadata": {
        "id": "xLW0lGr4n2LR",
        "colab_type": "code",
        "outputId": "6e8de3f3-dd27-4669-d54b-ea3ebb4588b1",
        "colab": {
          "base_uri": "https://localhost:8080/",
          "height": 275
        }
      },
      "source": [
        "#Removing the two fake rows created  and columns in excel with min and max.\n",
        "\n",
        "# Dropping columns that were not in the model:\n",
        "\n",
        "Data = Data.drop(['Home Player Country_NNN', 'Away Player Country_NNN'], axis=1)\n",
        "\n",
        "Data = Data.drop([0,1], axis=0)\n",
        "\n",
        "Data.head()\n",
        "\n"
      ],
      "execution_count": 24,
      "outputs": [
        {
          "output_type": "execute_result",
          "data": {
            "text/html": [
              "<div>\n",
              "<style scoped>\n",
              "    .dataframe tbody tr th:only-of-type {\n",
              "        vertical-align: middle;\n",
              "    }\n",
              "\n",
              "    .dataframe tbody tr th {\n",
              "        vertical-align: top;\n",
              "    }\n",
              "\n",
              "    .dataframe thead th {\n",
              "        text-align: right;\n",
              "    }\n",
              "</style>\n",
              "<table border=\"1\" class=\"dataframe\">\n",
              "  <thead>\n",
              "    <tr style=\"text-align: right;\">\n",
              "      <th></th>\n",
              "      <th>Home Player Win</th>\n",
              "      <th>Date</th>\n",
              "      <th>Difference of Age:  Home Player</th>\n",
              "      <th>Difference Height: Home Player</th>\n",
              "      <th>Difference Weight: Home Player</th>\n",
              "      <th>Home Player Age</th>\n",
              "      <th>Home Player Height (Inches)</th>\n",
              "      <th>Home Player Weight (Lbs)</th>\n",
              "      <th>Away Player Age</th>\n",
              "      <th>Away Player Height (Inches)</th>\n",
              "      <th>Away Player Weight (Lbs)</th>\n",
              "      <th>Home Player Country_Australia</th>\n",
              "      <th>Home Player Country_Bosnia and Herzegovina</th>\n",
              "      <th>Home Player Country_Brazil</th>\n",
              "      <th>Home Player Country_Cameroon</th>\n",
              "      <th>Home Player Country_Canada</th>\n",
              "      <th>Home Player Country_Croatia</th>\n",
              "      <th>Home Player Country_Democratic Republic of Congo</th>\n",
              "      <th>Home Player Country_Dominican Republic</th>\n",
              "      <th>Home Player Country_France</th>\n",
              "      <th>Home Player Country_Germany</th>\n",
              "      <th>Home Player Country_Greece</th>\n",
              "      <th>Home Player Country_Haiti</th>\n",
              "      <th>Home Player Country_Latvia</th>\n",
              "      <th>Home Player Country_Lithuania</th>\n",
              "      <th>Home Player Country_Montenegro</th>\n",
              "      <th>Home Player Country_New Zealand</th>\n",
              "      <th>Home Player Country_Poland</th>\n",
              "      <th>Home Player Country_Russia</th>\n",
              "      <th>Home Player Country_Serbia</th>\n",
              "      <th>Home Player Country_South Sudan</th>\n",
              "      <th>Home Player Country_Spain</th>\n",
              "      <th>Home Player Country_Switzerland</th>\n",
              "      <th>Home Player Country_USA</th>\n",
              "      <th>Home Player Country_Ukraine</th>\n",
              "      <th>Away Player Country_Australia</th>\n",
              "      <th>Away Player Country_Bosnia and Herzegovina</th>\n",
              "      <th>Away Player Country_Brazil</th>\n",
              "      <th>Away Player Country_Cameroon</th>\n",
              "      <th>Away Player Country_Canada</th>\n",
              "      <th>Away Player Country_Croatia</th>\n",
              "      <th>Away Player Country_Democratic Republic of Congo</th>\n",
              "      <th>Away Player Country_Dominican Republic</th>\n",
              "      <th>Away Player Country_France</th>\n",
              "      <th>Away Player Country_Germany</th>\n",
              "      <th>Away Player Country_Greece</th>\n",
              "      <th>Away Player Country_Haiti</th>\n",
              "      <th>Away Player Country_Israel</th>\n",
              "      <th>Away Player Country_Latvia</th>\n",
              "      <th>Away Player Country_Lithuania</th>\n",
              "      <th>Away Player Country_Montenegro</th>\n",
              "      <th>Away Player Country_NBA</th>\n",
              "      <th>Away Player Country_New Zealand</th>\n",
              "      <th>Away Player Country_Poland</th>\n",
              "      <th>Away Player Country_Russia</th>\n",
              "      <th>Away Player Country_Serbia</th>\n",
              "      <th>Away Player Country_South Sudan</th>\n",
              "      <th>Away Player Country_Spain</th>\n",
              "      <th>Away Player Country_Switzerland</th>\n",
              "      <th>Away Player Country_Tunisia</th>\n",
              "      <th>Away Player Country_USA</th>\n",
              "      <th>Away Player Country_Ukraine</th>\n",
              "    </tr>\n",
              "  </thead>\n",
              "  <tbody>\n",
              "    <tr>\n",
              "      <th>2</th>\n",
              "      <td>0.0</td>\n",
              "      <td>0.000000</td>\n",
              "      <td>0.444444</td>\n",
              "      <td>0.500000</td>\n",
              "      <td>0.530303</td>\n",
              "      <td>0.555556</td>\n",
              "      <td>0.545455</td>\n",
              "      <td>0.606061</td>\n",
              "      <td>0.666667</td>\n",
              "      <td>0.545455</td>\n",
              "      <td>0.545455</td>\n",
              "      <td>0.0</td>\n",
              "      <td>0.0</td>\n",
              "      <td>0.0</td>\n",
              "      <td>0.0</td>\n",
              "      <td>0.0</td>\n",
              "      <td>0.0</td>\n",
              "      <td>0.0</td>\n",
              "      <td>0.0</td>\n",
              "      <td>0.0</td>\n",
              "      <td>0.0</td>\n",
              "      <td>0.0</td>\n",
              "      <td>0.0</td>\n",
              "      <td>0.0</td>\n",
              "      <td>0.0</td>\n",
              "      <td>0.0</td>\n",
              "      <td>0.0</td>\n",
              "      <td>0.0</td>\n",
              "      <td>0.0</td>\n",
              "      <td>0.0</td>\n",
              "      <td>0.0</td>\n",
              "      <td>0.0</td>\n",
              "      <td>0.0</td>\n",
              "      <td>1.0</td>\n",
              "      <td>0.0</td>\n",
              "      <td>0.0</td>\n",
              "      <td>0.0</td>\n",
              "      <td>0.0</td>\n",
              "      <td>0.0</td>\n",
              "      <td>0.0</td>\n",
              "      <td>0.0</td>\n",
              "      <td>0.0</td>\n",
              "      <td>1.0</td>\n",
              "      <td>0.0</td>\n",
              "      <td>0.0</td>\n",
              "      <td>0.0</td>\n",
              "      <td>0.0</td>\n",
              "      <td>0.0</td>\n",
              "      <td>0.0</td>\n",
              "      <td>0.0</td>\n",
              "      <td>0.0</td>\n",
              "      <td>0.0</td>\n",
              "      <td>0.0</td>\n",
              "      <td>0.0</td>\n",
              "      <td>0.0</td>\n",
              "      <td>0.0</td>\n",
              "      <td>0.0</td>\n",
              "      <td>0.0</td>\n",
              "      <td>0.0</td>\n",
              "      <td>0.0</td>\n",
              "      <td>0.0</td>\n",
              "      <td>0.0</td>\n",
              "    </tr>\n",
              "    <tr>\n",
              "      <th>3</th>\n",
              "      <td>0.0</td>\n",
              "      <td>0.000000</td>\n",
              "      <td>0.777778</td>\n",
              "      <td>0.545455</td>\n",
              "      <td>0.651515</td>\n",
              "      <td>0.777778</td>\n",
              "      <td>0.636364</td>\n",
              "      <td>0.797980</td>\n",
              "      <td>0.222222</td>\n",
              "      <td>0.545455</td>\n",
              "      <td>0.494949</td>\n",
              "      <td>0.0</td>\n",
              "      <td>0.0</td>\n",
              "      <td>0.0</td>\n",
              "      <td>0.0</td>\n",
              "      <td>0.0</td>\n",
              "      <td>0.0</td>\n",
              "      <td>0.0</td>\n",
              "      <td>0.0</td>\n",
              "      <td>0.0</td>\n",
              "      <td>0.0</td>\n",
              "      <td>0.0</td>\n",
              "      <td>0.0</td>\n",
              "      <td>0.0</td>\n",
              "      <td>0.0</td>\n",
              "      <td>0.0</td>\n",
              "      <td>0.0</td>\n",
              "      <td>0.0</td>\n",
              "      <td>1.0</td>\n",
              "      <td>0.0</td>\n",
              "      <td>0.0</td>\n",
              "      <td>0.0</td>\n",
              "      <td>0.0</td>\n",
              "      <td>0.0</td>\n",
              "      <td>0.0</td>\n",
              "      <td>0.0</td>\n",
              "      <td>0.0</td>\n",
              "      <td>0.0</td>\n",
              "      <td>0.0</td>\n",
              "      <td>0.0</td>\n",
              "      <td>0.0</td>\n",
              "      <td>0.0</td>\n",
              "      <td>0.0</td>\n",
              "      <td>0.0</td>\n",
              "      <td>0.0</td>\n",
              "      <td>0.0</td>\n",
              "      <td>0.0</td>\n",
              "      <td>0.0</td>\n",
              "      <td>0.0</td>\n",
              "      <td>0.0</td>\n",
              "      <td>0.0</td>\n",
              "      <td>0.0</td>\n",
              "      <td>0.0</td>\n",
              "      <td>0.0</td>\n",
              "      <td>0.0</td>\n",
              "      <td>0.0</td>\n",
              "      <td>0.0</td>\n",
              "      <td>0.0</td>\n",
              "      <td>1.0</td>\n",
              "      <td>0.0</td>\n",
              "      <td>0.0</td>\n",
              "      <td>0.0</td>\n",
              "    </tr>\n",
              "    <tr>\n",
              "      <th>4</th>\n",
              "      <td>0.0</td>\n",
              "      <td>0.004274</td>\n",
              "      <td>0.305556</td>\n",
              "      <td>0.500000</td>\n",
              "      <td>0.570707</td>\n",
              "      <td>0.277778</td>\n",
              "      <td>0.636364</td>\n",
              "      <td>0.888889</td>\n",
              "      <td>0.666667</td>\n",
              "      <td>0.636364</td>\n",
              "      <td>0.747475</td>\n",
              "      <td>0.0</td>\n",
              "      <td>0.0</td>\n",
              "      <td>0.0</td>\n",
              "      <td>0.0</td>\n",
              "      <td>0.0</td>\n",
              "      <td>0.0</td>\n",
              "      <td>0.0</td>\n",
              "      <td>0.0</td>\n",
              "      <td>0.0</td>\n",
              "      <td>0.0</td>\n",
              "      <td>0.0</td>\n",
              "      <td>0.0</td>\n",
              "      <td>0.0</td>\n",
              "      <td>0.0</td>\n",
              "      <td>0.0</td>\n",
              "      <td>0.0</td>\n",
              "      <td>0.0</td>\n",
              "      <td>0.0</td>\n",
              "      <td>0.0</td>\n",
              "      <td>0.0</td>\n",
              "      <td>0.0</td>\n",
              "      <td>0.0</td>\n",
              "      <td>1.0</td>\n",
              "      <td>0.0</td>\n",
              "      <td>0.0</td>\n",
              "      <td>0.0</td>\n",
              "      <td>0.0</td>\n",
              "      <td>0.0</td>\n",
              "      <td>0.0</td>\n",
              "      <td>0.0</td>\n",
              "      <td>0.0</td>\n",
              "      <td>0.0</td>\n",
              "      <td>0.0</td>\n",
              "      <td>0.0</td>\n",
              "      <td>0.0</td>\n",
              "      <td>0.0</td>\n",
              "      <td>0.0</td>\n",
              "      <td>0.0</td>\n",
              "      <td>0.0</td>\n",
              "      <td>0.0</td>\n",
              "      <td>0.0</td>\n",
              "      <td>0.0</td>\n",
              "      <td>0.0</td>\n",
              "      <td>0.0</td>\n",
              "      <td>0.0</td>\n",
              "      <td>0.0</td>\n",
              "      <td>0.0</td>\n",
              "      <td>0.0</td>\n",
              "      <td>0.0</td>\n",
              "      <td>1.0</td>\n",
              "      <td>0.0</td>\n",
              "    </tr>\n",
              "    <tr>\n",
              "      <th>5</th>\n",
              "      <td>1.0</td>\n",
              "      <td>0.004274</td>\n",
              "      <td>0.222222</td>\n",
              "      <td>0.409091</td>\n",
              "      <td>0.373737</td>\n",
              "      <td>0.111111</td>\n",
              "      <td>0.636364</td>\n",
              "      <td>0.595960</td>\n",
              "      <td>0.666667</td>\n",
              "      <td>0.818182</td>\n",
              "      <td>0.848485</td>\n",
              "      <td>0.0</td>\n",
              "      <td>0.0</td>\n",
              "      <td>0.0</td>\n",
              "      <td>0.0</td>\n",
              "      <td>0.0</td>\n",
              "      <td>0.0</td>\n",
              "      <td>0.0</td>\n",
              "      <td>0.0</td>\n",
              "      <td>0.0</td>\n",
              "      <td>0.0</td>\n",
              "      <td>0.0</td>\n",
              "      <td>0.0</td>\n",
              "      <td>0.0</td>\n",
              "      <td>0.0</td>\n",
              "      <td>0.0</td>\n",
              "      <td>0.0</td>\n",
              "      <td>0.0</td>\n",
              "      <td>0.0</td>\n",
              "      <td>0.0</td>\n",
              "      <td>0.0</td>\n",
              "      <td>0.0</td>\n",
              "      <td>0.0</td>\n",
              "      <td>1.0</td>\n",
              "      <td>0.0</td>\n",
              "      <td>0.0</td>\n",
              "      <td>0.0</td>\n",
              "      <td>0.0</td>\n",
              "      <td>0.0</td>\n",
              "      <td>0.0</td>\n",
              "      <td>0.0</td>\n",
              "      <td>0.0</td>\n",
              "      <td>0.0</td>\n",
              "      <td>0.0</td>\n",
              "      <td>0.0</td>\n",
              "      <td>0.0</td>\n",
              "      <td>0.0</td>\n",
              "      <td>0.0</td>\n",
              "      <td>0.0</td>\n",
              "      <td>0.0</td>\n",
              "      <td>0.0</td>\n",
              "      <td>0.0</td>\n",
              "      <td>0.0</td>\n",
              "      <td>0.0</td>\n",
              "      <td>1.0</td>\n",
              "      <td>0.0</td>\n",
              "      <td>0.0</td>\n",
              "      <td>0.0</td>\n",
              "      <td>0.0</td>\n",
              "      <td>0.0</td>\n",
              "      <td>0.0</td>\n",
              "      <td>0.0</td>\n",
              "    </tr>\n",
              "    <tr>\n",
              "      <th>6</th>\n",
              "      <td>0.0</td>\n",
              "      <td>0.004274</td>\n",
              "      <td>0.444444</td>\n",
              "      <td>0.454545</td>\n",
              "      <td>0.474747</td>\n",
              "      <td>0.388889</td>\n",
              "      <td>0.727273</td>\n",
              "      <td>0.696970</td>\n",
              "      <td>0.500000</td>\n",
              "      <td>0.818182</td>\n",
              "      <td>0.747475</td>\n",
              "      <td>0.0</td>\n",
              "      <td>0.0</td>\n",
              "      <td>0.0</td>\n",
              "      <td>0.0</td>\n",
              "      <td>0.0</td>\n",
              "      <td>0.0</td>\n",
              "      <td>0.0</td>\n",
              "      <td>0.0</td>\n",
              "      <td>0.0</td>\n",
              "      <td>0.0</td>\n",
              "      <td>0.0</td>\n",
              "      <td>0.0</td>\n",
              "      <td>0.0</td>\n",
              "      <td>0.0</td>\n",
              "      <td>1.0</td>\n",
              "      <td>0.0</td>\n",
              "      <td>0.0</td>\n",
              "      <td>0.0</td>\n",
              "      <td>0.0</td>\n",
              "      <td>0.0</td>\n",
              "      <td>0.0</td>\n",
              "      <td>0.0</td>\n",
              "      <td>0.0</td>\n",
              "      <td>0.0</td>\n",
              "      <td>0.0</td>\n",
              "      <td>0.0</td>\n",
              "      <td>0.0</td>\n",
              "      <td>0.0</td>\n",
              "      <td>0.0</td>\n",
              "      <td>0.0</td>\n",
              "      <td>0.0</td>\n",
              "      <td>0.0</td>\n",
              "      <td>0.0</td>\n",
              "      <td>0.0</td>\n",
              "      <td>0.0</td>\n",
              "      <td>0.0</td>\n",
              "      <td>0.0</td>\n",
              "      <td>0.0</td>\n",
              "      <td>0.0</td>\n",
              "      <td>0.0</td>\n",
              "      <td>0.0</td>\n",
              "      <td>0.0</td>\n",
              "      <td>0.0</td>\n",
              "      <td>0.0</td>\n",
              "      <td>0.0</td>\n",
              "      <td>0.0</td>\n",
              "      <td>0.0</td>\n",
              "      <td>0.0</td>\n",
              "      <td>0.0</td>\n",
              "      <td>1.0</td>\n",
              "      <td>0.0</td>\n",
              "    </tr>\n",
              "  </tbody>\n",
              "</table>\n",
              "</div>"
            ],
            "text/plain": [
              "   Home Player Win  ...  Away Player Country_Ukraine\n",
              "2              0.0  ...                          0.0\n",
              "3              0.0  ...                          0.0\n",
              "4              0.0  ...                          0.0\n",
              "5              1.0  ...                          0.0\n",
              "6              0.0  ...                          0.0\n",
              "\n",
              "[5 rows x 62 columns]"
            ]
          },
          "metadata": {
            "tags": []
          },
          "execution_count": 24
        }
      ]
    },
    {
      "cell_type": "markdown",
      "metadata": {
        "id": "iZv9XC5zWL3u",
        "colab_type": "text"
      },
      "source": [
        "## Partitioning the data between independent variable and dependent variables.\n",
        "\n",
        "The Variable of interest has been set to Home Player Win with the values 0 and 1. This means that if 0 the home player looses and 1 the home player wins, as each match has always a home player."
      ]
    },
    {
      "cell_type": "code",
      "metadata": {
        "id": "QksGlfNdKUBZ",
        "colab_type": "code",
        "outputId": "503163a1-fab2-4706-f6ed-637f81aefebc",
        "colab": {
          "base_uri": "https://localhost:8080/",
          "height": 51
        }
      },
      "source": [
        "# Separating independet variable of dependent variables\n",
        "\n",
        "X = Data.iloc[:,1:]\n",
        "\n",
        "Y = Data.iloc[:,0]\n",
        "\n",
        "# Converting the data into a numpy array\n",
        "\n",
        "x = X.to_numpy()\n",
        "y = np.ravel(Y.to_numpy())\n",
        "\n",
        "print(x.shape)\n",
        "print(y.shape)"
      ],
      "execution_count": 27,
      "outputs": [
        {
          "output_type": "stream",
          "text": [
            "(1291, 61)\n",
            "(1291,)\n"
          ],
          "name": "stdout"
        }
      ]
    },
    {
      "cell_type": "markdown",
      "metadata": {
        "id": "MBIEsLPXW74w",
        "colab_type": "text"
      },
      "source": [
        "## Attribute Selection\n",
        "\n",
        "The CHAID or Chi square test is applied to each one of the columns of the transformed dataset, to evaluate the relation between each attribute and the independent variable. The higher the score presented by CHAID the better this attribute can explain the changes in the independent variable."
      ]
    },
    {
      "cell_type": "code",
      "metadata": {
        "id": "GVxo_dK5gNy8",
        "colab_type": "code",
        "outputId": "f26e363d-93f4-422b-8bc1-f1d67e22f1f3",
        "colab": {
          "base_uri": "https://localhost:8080/",
          "height": 544
        }
      },
      "source": [
        "#apply SelectKBest class to extract top 20 best features\n",
        "bestfeatures = SelectKBest(score_func=chi2, k=30)\n",
        "fit = bestfeatures.fit(x,y)\n",
        "dfscores = pd.DataFrame(fit.scores_)\n",
        "dfcolumns = pd.DataFrame(X.columns)\n",
        "\n",
        "#Putting together the two resulting colums into a dataframe  \n",
        "featureScores = pd.concat([dfcolumns,dfscores],axis=1)\n",
        "\n",
        "#Giving names to the dataframe columns\n",
        "featureScores.columns = ['Specs','Score']\n",
        "\n",
        " #printing the 20 best features according to CHIAD\n",
        "print(featureScores.nlargest(30,'Score')) "
      ],
      "execution_count": 30,
      "outputs": [
        {
          "output_type": "stream",
          "text": [
            "                                         Specs      Score\n",
            "52                  Away Player Country_Poland  16.707346\n",
            "14                  Home Player Country_Canada  13.857956\n",
            "56                   Away Player Country_Spain  13.622972\n",
            "25             Home Player Country_New Zealand  10.068049\n",
            "37                Away Player Country_Cameroon   9.953626\n",
            "26                  Home Player Country_Poland   9.774945\n",
            "33                 Home Player Country_Ukraine   8.188088\n",
            "36                  Away Player Country_Brazil   7.156947\n",
            "38                  Away Player Country_Canada   6.212893\n",
            "43                 Away Player Country_Germany   5.326327\n",
            "51             Away Player Country_New Zealand   4.998341\n",
            "24              Home Player Country_Montenegro   3.213219\n",
            "15                 Home Player Country_Croatia   3.070533\n",
            "53                  Away Player Country_Russia   3.020057\n",
            "27                  Home Player Country_Russia   2.826610\n",
            "35  Away Player Country_Bosnia and Herzegovina   2.738148\n",
            "55             Away Player Country_South Sudan   2.574873\n",
            "34               Away Player Country_Australia   2.484340\n",
            "19                 Home Player Country_Germany   2.142146\n",
            "59                     Away Player Country_USA   1.815806\n",
            "22                  Home Player Country_Latvia   1.800953\n",
            "47                  Away Player Country_Latvia   1.779001\n",
            "57             Away Player Country_Switzerland   1.680613\n",
            "31             Home Player Country_Switzerland   1.583630\n",
            "29             Home Player Country_South Sudan   1.356556\n",
            "11  Home Player Country_Bosnia and Herzegovina   1.343758\n",
            "23               Home Player Country_Lithuania   1.130486\n",
            "7                              Away Player Age   1.091645\n",
            "39                 Away Player Country_Croatia   0.977029\n",
            "58                 Away Player Country_Tunisia   0.977029\n"
          ],
          "name": "stdout"
        }
      ]
    },
    {
      "cell_type": "markdown",
      "metadata": {
        "id": "ae_K5iKYXbV2",
        "colab_type": "text"
      },
      "source": [
        "After evaluating all variables it is concluded that all attributes will be included in the model."
      ]
    },
    {
      "cell_type": "code",
      "metadata": {
        "id": "gxlScq7khg4K",
        "colab_type": "code",
        "outputId": "c112d6d5-3610-418e-d487-808204225ee0",
        "colab": {
          "base_uri": "https://localhost:8080/",
          "height": 51
        }
      },
      "source": [
        "# Separating independet variable of dependent variables\n",
        "\n",
        "X = Data.iloc[:,1:]\n",
        "\n",
        "Y = Data.iloc[:,0]\n",
        "\n",
        "# Converting the data into a numpy array\n",
        "\n",
        "x = X.to_numpy()\n",
        "y = np.ravel(Y.to_numpy())\n",
        "\n",
        "print(x.shape)\n",
        "print(y.shape)"
      ],
      "execution_count": 0,
      "outputs": [
        {
          "output_type": "stream",
          "text": [
            "(1291, 61)\n",
            "(1291,)\n"
          ],
          "name": "stdout"
        }
      ]
    },
    {
      "cell_type": "code",
      "metadata": {
        "id": "3BNmqFjrLzKY",
        "colab_type": "code",
        "colab": {}
      },
      "source": [
        "#Partitioning the data into a training set and testing set\n",
        "\n",
        "X_train, X_test, y_train, y_test = train_test_split(\n",
        "    x, y, test_size=0.1, random_state=42)"
      ],
      "execution_count": 0,
      "outputs": []
    },
    {
      "cell_type": "markdown",
      "metadata": {
        "id": "A2AEFlTEXzpl",
        "colab_type": "text"
      },
      "source": [
        "## Models:"
      ]
    },
    {
      "cell_type": "markdown",
      "metadata": {
        "id": "Ls_Xx4Nbk-ZO",
        "colab_type": "text"
      },
      "source": [
        "### Random Forest"
      ]
    },
    {
      "cell_type": "code",
      "metadata": {
        "id": "8oZqVHOwLsRW",
        "colab_type": "code",
        "outputId": "91475707-19d7-4bed-ed94-a68245e6c674",
        "colab": {
          "base_uri": "https://localhost:8080/",
          "height": 238
        }
      },
      "source": [
        "print(\"Training the Random Forest classifier with training set\")\n",
        "\n",
        "t0 = time()\n",
        "\n",
        "param_grid = {'n_estimators': (100,200),\n",
        "              'max_depth': (5,10,20,30), }\n",
        "\n",
        "clfRF = GridSearchCV(RandomForestClassifier(random_state=0, bootstrap = True,\n",
        "                                           max_features = 'sqrt'),\n",
        "                     param_grid, cv=5, iid=False)\n",
        "                  \n",
        "clfRF = clfRF.fit(X_train, y_train)\n",
        "print(\"done in {}s\".format(time() - t0))\n",
        "print(\"Best estimator found by grid search:\")\n",
        "print(clfRF.best_estimator_)\n",
        "\n",
        "# Performing Bagging to reduce variance and overfitting problems.\n",
        "print(\"Performing Bagging to reduce overfitting...\")\n",
        "\n",
        "Model = BaggingClassifier(clfRF, max_samples= 0.9, max_features = 1.0, n_estimators = 100)\n",
        "Model.fit(X_train, y_train)\n",
        "\n",
        "print(\"done in {}s\".format(time() - t0))\n",
        "print('The model now, explains {}% of the training data'.format(Model.score(X_train, y_train)*100))"
      ],
      "execution_count": 0,
      "outputs": [
        {
          "output_type": "stream",
          "text": [
            "Training the Random Forest classifier with training set\n",
            "done in 8.326755046844482s\n",
            "Best estimator found by grid search:\n",
            "RandomForestClassifier(bootstrap=True, class_weight=None, criterion='gini',\n",
            "                       max_depth=5, max_features='sqrt', max_leaf_nodes=None,\n",
            "                       min_impurity_decrease=0.0, min_impurity_split=None,\n",
            "                       min_samples_leaf=1, min_samples_split=2,\n",
            "                       min_weight_fraction_leaf=0.0, n_estimators=200,\n",
            "                       n_jobs=None, oob_score=False, random_state=0, verbose=0,\n",
            "                       warm_start=False)\n",
            "Performing Bagging to reduce overfitting...\n",
            "done in 770.1612553596497s\n",
            "The model now, explains 91.64513350559862% of the training data\n"
          ],
          "name": "stdout"
        }
      ]
    },
    {
      "cell_type": "code",
      "metadata": {
        "id": "eKJsb3hAX_08",
        "colab_type": "code",
        "outputId": "8e99b292-5dad-4377-fcd3-6d7b6a0e0384",
        "colab": {
          "base_uri": "https://localhost:8080/",
          "height": 102
        }
      },
      "source": [
        "print(\"Training the Random Forest classifier with training set\")\n",
        "\n",
        "t0 = time()\n",
        "\n",
        "clfRF = RandomForestClassifier(bootstrap=True, class_weight=None, criterion='gini',\n",
        "                       max_depth=5, max_features='sqrt', max_leaf_nodes=None,\n",
        "                       min_impurity_decrease=0.0, min_impurity_split=None,\n",
        "                       min_samples_leaf=1, min_samples_split=2,\n",
        "                       min_weight_fraction_leaf=0.0, n_estimators=200,\n",
        "                       n_jobs=None, oob_score=False, random_state=0, verbose=0,\n",
        "                       warm_start=False)\n",
        "\n",
        "\n",
        "clfRF = clfRF.fit(X_train, y_train)\n",
        "print(\"done in {}s\".format(time() - t0))\n",
        "\n",
        "# Performing Bagging to reduce variance and overfitting problems.\n",
        "print(\"Performing Bagging to reduce overfitting...\")\n",
        "\n",
        "Model = BaggingClassifier(clfRF, max_samples= 0.9, max_features = 1.0, n_estimators = 100)\n",
        "Model.fit(X_train, y_train)\n",
        "\n",
        "print(\"done in {}s\".format(time() - t0))\n",
        "print('The model explains {}% of the training data'.format(Model.score(X_train, y_train)*100))\n",
        "\n",
        "                            "
      ],
      "execution_count": 0,
      "outputs": [
        {
          "output_type": "stream",
          "text": [
            "Training the Random Forest classifier with training set\n",
            "done in 0.32616758346557617s\n",
            "Performing Bagging to reduce overfitting...\n",
            "done in 28.740940809249878s\n",
            "The model explains 69.50904392764858% of the training data\n"
          ],
          "name": "stdout"
        }
      ]
    },
    {
      "cell_type": "code",
      "metadata": {
        "id": "-m3upUIttglg",
        "colab_type": "code",
        "outputId": "49faf717-0e05-447e-e2b5-11d089ec3151",
        "colab": {
          "base_uri": "https://localhost:8080/",
          "height": 238
        }
      },
      "source": [
        "target_names= ['Loses','Wins']\n",
        "print(\"Predicting winers\")\n",
        "t0 = time()\n",
        "y_pred = Model.predict(X_test)\n",
        "print(\"done in {}s\".format(time() - t0))\n",
        "\n",
        "print(classification_report(y_test, y_pred, target_names=target_names))\n",
        "print(confusion_matrix(y_test, y_pred, labels=[0,1])) "
      ],
      "execution_count": 0,
      "outputs": [
        {
          "output_type": "stream",
          "text": [
            "Predicting winers\n",
            "done in 1.5273032188415527s\n",
            "              precision    recall  f1-score   support\n",
            "\n",
            "       Loses       0.76      0.64      0.69        69\n",
            "        Wins       0.65      0.77      0.71        61\n",
            "\n",
            "    accuracy                           0.70       130\n",
            "   macro avg       0.71      0.70      0.70       130\n",
            "weighted avg       0.71      0.70      0.70       130\n",
            "\n",
            "[[44 25]\n",
            " [14 47]]\n"
          ],
          "name": "stdout"
        }
      ]
    },
    {
      "cell_type": "markdown",
      "metadata": {
        "id": "dsXV0m0TeXeF",
        "colab_type": "text"
      },
      "source": [
        "### Logistic Regression"
      ]
    },
    {
      "cell_type": "code",
      "metadata": {
        "id": "GEqUWqoveklW",
        "colab_type": "code",
        "outputId": "bc30f753-06be-4980-cb54-3b728b44c851",
        "colab": {
          "base_uri": "https://localhost:8080/",
          "height": 34
        }
      },
      "source": [
        "lr = AdaBoostClassifier(LogisticRegression(random_state=0, solver='lbfgs',\n",
        "                        multi_class='multinomial'))\n",
        "                       \n",
        "lr = lr.fit(X_train, y_train)\n",
        "\n",
        "print('The model explains {}% of the training data'.format(lr.score(X_train, y_train)*100))"
      ],
      "execution_count": 0,
      "outputs": [
        {
          "output_type": "stream",
          "text": [
            "The model explains 64.08268733850129% of the training data\n"
          ],
          "name": "stdout"
        }
      ]
    },
    {
      "cell_type": "code",
      "metadata": {
        "id": "VLrADGOJfBN4",
        "colab_type": "code",
        "outputId": "8c80d3b4-5f67-4df6-ccc8-48e703352e40",
        "colab": {
          "base_uri": "https://localhost:8080/",
          "height": 238
        }
      },
      "source": [
        "target_names= ['Loses','Wins']\n",
        "print(\"Predicting winers with Logistic Regression\")\n",
        "t0 = time()\n",
        "y_pred = lr.predict(X_test)\n",
        "print(\"done in {}s\".format(time() - t0))\n",
        "\n",
        "print(classification_report(y_test, y_pred, target_names=target_names))\n",
        "print(confusion_matrix(y_test, y_pred, labels=[0,1]))"
      ],
      "execution_count": 0,
      "outputs": [
        {
          "output_type": "stream",
          "text": [
            "Predicting winers with Logistic Regression\n",
            "done in 0.02612161636352539s\n",
            "              precision    recall  f1-score   support\n",
            "\n",
            "       Loses       0.79      0.61      0.69        69\n",
            "        Wins       0.65      0.82      0.72        61\n",
            "\n",
            "    accuracy                           0.71       130\n",
            "   macro avg       0.72      0.71      0.71       130\n",
            "weighted avg       0.73      0.71      0.71       130\n",
            "\n",
            "[[42 27]\n",
            " [11 50]]\n"
          ],
          "name": "stdout"
        }
      ]
    },
    {
      "cell_type": "markdown",
      "metadata": {
        "id": "5Ts1eLWMd6z_",
        "colab_type": "text"
      },
      "source": [
        "### Support Vector Machine"
      ]
    },
    {
      "cell_type": "code",
      "metadata": {
        "id": "MomMz3zuLcHy",
        "colab_type": "code",
        "outputId": "b797f384-3115-42e1-b853-fb5f654f390b",
        "colab": {
          "base_uri": "https://localhost:8080/",
          "height": 136
        }
      },
      "source": [
        "print(\"Training SVM with training set\")\n",
        "\n",
        "t0 = time()\n",
        "\n",
        "#List the parameters of SVD that will be evaluated in the model to find the best combination.\n",
        "\n",
        "param_grid = {'C': [10000,20000],\n",
        "              'gamma': [0.001, 0.002], }\n",
        "\n",
        "\n",
        "\n",
        "clfSVM = GridSearchCV(SVC(kernel='rbf', class_weight='balanced'),\n",
        "                   param_grid, cv=5, iid=False)\n",
        "\n",
        "\n",
        "clfSVM = clfSVM.fit(X_train, y_train)\n",
        "\n",
        "print(\"done in {}s\".format(time() - t0))\n",
        "print(\"Best estimator found by GridSearchCV:\")\n",
        "print(clfSVM.best_estimator_)\n",
        "\n"
      ],
      "execution_count": 0,
      "outputs": [
        {
          "output_type": "stream",
          "text": [
            "Training SVM with training set\n",
            "done in 4.06421160697937s\n",
            "Best estimator found by GridSearchCV:\n",
            "SVC(C=20000, cache_size=200, class_weight='balanced', coef0=0.0,\n",
            "    decision_function_shape='ovr', degree=3, gamma=0.002, kernel='rbf',\n",
            "    max_iter=-1, probability=False, random_state=None, shrinking=True,\n",
            "    tol=0.001, verbose=False)\n"
          ],
          "name": "stdout"
        }
      ]
    },
    {
      "cell_type": "code",
      "metadata": {
        "id": "va_H2PdXhtqD",
        "colab_type": "code",
        "colab": {}
      },
      "source": [
        "clfSVM = SVC(C=20000, cache_size=200, class_weight='balanced', coef0=0.0,\n",
        "    decision_function_shape='ovr', degree=3, gamma=0.002, kernel='rbf',\n",
        "    max_iter=-1, probability=False, random_state=None, shrinking=True,\n",
        "    tol=0.001, verbose=False)"
      ],
      "execution_count": 0,
      "outputs": []
    },
    {
      "cell_type": "code",
      "metadata": {
        "id": "Qr809-PHhoH9",
        "colab_type": "code",
        "outputId": "e1576b8e-79c8-4684-c49b-1f08d98037cd",
        "colab": {
          "base_uri": "https://localhost:8080/",
          "height": 68
        }
      },
      "source": [
        "# Bagging\n",
        "print(\"Performing Bagging to reduce overfitting\")\n",
        "\n",
        "t0 = time()\n",
        "\n",
        "Model2 = BaggingClassifier(clfSVM, max_samples= 0.9, max_features = 1.0, n_estimators = 100)\n",
        "Model2.fit(X_train, y_train)\n",
        "\n",
        "print(\"done in {}s\".format(time() - t0))\n",
        "print('The model explains {}% of the training data'.format(Model2.score(X_train, y_train)*100))"
      ],
      "execution_count": 0,
      "outputs": [
        {
          "output_type": "stream",
          "text": [
            "Performing Bagging to reduce overfitting\n",
            "done in 15.157526731491089s\n",
            "The model explains 69.33677863910422% of the training data\n"
          ],
          "name": "stdout"
        }
      ]
    },
    {
      "cell_type": "code",
      "metadata": {
        "id": "ebe0inC6LWvR",
        "colab_type": "code",
        "outputId": "1a37e081-7adb-4275-bccf-f3a4521cf3e8",
        "colab": {
          "base_uri": "https://localhost:8080/",
          "height": 238
        }
      },
      "source": [
        "target_names= ['Loses','Wins']\n",
        "print(\"Predicting winers\")\n",
        "t0 = time()\n",
        "y_pred = Model2.predict(X_test)\n",
        "print(\"done in {}s\".format(time() - t0))\n",
        "\n",
        "print(classification_report(y_test, y_pred, target_names=target_names))\n",
        "print(confusion_matrix(y_test, y_pred, labels=[0,1]))"
      ],
      "execution_count": 0,
      "outputs": [
        {
          "output_type": "stream",
          "text": [
            "Predicting winers\n",
            "done in 0.8252153396606445s\n",
            "              precision    recall  f1-score   support\n",
            "\n",
            "       Loses       0.70      0.58      0.63        69\n",
            "        Wins       0.60      0.72      0.66        61\n",
            "\n",
            "    accuracy                           0.65       130\n",
            "   macro avg       0.65      0.65      0.65       130\n",
            "weighted avg       0.66      0.65      0.65       130\n",
            "\n",
            "[[40 29]\n",
            " [17 44]]\n"
          ],
          "name": "stdout"
        }
      ]
    },
    {
      "cell_type": "markdown",
      "metadata": {
        "id": "O8s-TGVbji0d",
        "colab_type": "text"
      },
      "source": [
        "## Artificial Neural Network"
      ]
    },
    {
      "cell_type": "code",
      "metadata": {
        "colab_type": "code",
        "outputId": "312b864d-b81f-43e5-b944-b1672cbad54f",
        "id": "Bvn6DaWe_eEg",
        "colab": {
          "base_uri": "https://localhost:8080/",
          "height": 836
        }
      },
      "source": [
        "print(\"Training NN with training set\")\n",
        "\n",
        "t0 = time()\n",
        "\n",
        "ANN_Model = keras.Sequential([\n",
        "    keras.layers.Dense(61, activation='relu',kernel_initializer= 'uniform',input_dim = 61),\n",
        "    keras.layers.Dense(61, activation='relu',kernel_initializer= 'uniform'),\n",
        "    keras.layers.Dense(units = 1, kernel_initializer= 'uniform',activation = 'sigmoid')])\n",
        "    \n",
        "  \n",
        "ANN_Model.compile(optimizer = 'rmsprop', loss = \"binary_crossentropy\",\n",
        "          metrics = ['accuracy'],)\n",
        "\n",
        "hist = ANN_Model.fit(X_train, y_train, batch_size = 25 , epochs = 17,\n",
        "                    validation_data=(X_test, y_test))\n",
        "\n",
        "#evaluating the moddel with the test set\n",
        "test_loss, test_acc = ANN_Model.evaluate(X_test, y_test)\n",
        "\n",
        "print(\"Tested Acc:\", test_acc , \"Loss:\", test_loss)"
      ],
      "execution_count": 0,
      "outputs": [
        {
          "output_type": "stream",
          "text": [
            "Training NN with training set\n",
            "WARNING:tensorflow:From /usr/local/lib/python3.6/dist-packages/tensorflow_core/python/keras/initializers.py:119: calling RandomUniform.__init__ (from tensorflow.python.ops.init_ops) with dtype is deprecated and will be removed in a future version.\n",
            "Instructions for updating:\n",
            "Call initializer instance with the dtype argument instead of passing it to the constructor\n",
            "WARNING:tensorflow:From /usr/local/lib/python3.6/dist-packages/tensorflow_core/python/ops/resource_variable_ops.py:1630: calling BaseResourceVariable.__init__ (from tensorflow.python.ops.resource_variable_ops) with constraint is deprecated and will be removed in a future version.\n",
            "Instructions for updating:\n",
            "If using Keras pass *_constraint arguments to layers.\n",
            "WARNING:tensorflow:From /usr/local/lib/python3.6/dist-packages/tensorflow_core/python/ops/nn_impl.py:183: where (from tensorflow.python.ops.array_ops) is deprecated and will be removed in a future version.\n",
            "Instructions for updating:\n",
            "Use tf.where in 2.0, which has the same broadcast rule as np.where\n",
            "Train on 1161 samples, validate on 130 samples\n",
            "Epoch 1/17\n",
            "1161/1161 [==============================] - 1s 462us/sample - loss: 0.6929 - acc: 0.5168 - val_loss: 0.6922 - val_acc: 0.4923\n",
            "Epoch 2/17\n",
            "1161/1161 [==============================] - 0s 69us/sample - loss: 0.6889 - acc: 0.5711 - val_loss: 0.6804 - val_acc: 0.6462\n",
            "Epoch 3/17\n",
            "1161/1161 [==============================] - 0s 66us/sample - loss: 0.6771 - acc: 0.6133 - val_loss: 0.6592 - val_acc: 0.6154\n",
            "Epoch 4/17\n",
            "1161/1161 [==============================] - 0s 64us/sample - loss: 0.6625 - acc: 0.6193 - val_loss: 0.6368 - val_acc: 0.6769\n",
            "Epoch 5/17\n",
            "1161/1161 [==============================] - 0s 72us/sample - loss: 0.6472 - acc: 0.6262 - val_loss: 0.6432 - val_acc: 0.6000\n",
            "Epoch 6/17\n",
            "1161/1161 [==============================] - 0s 69us/sample - loss: 0.6419 - acc: 0.6270 - val_loss: 0.6138 - val_acc: 0.6769\n",
            "Epoch 7/17\n",
            "1161/1161 [==============================] - 0s 70us/sample - loss: 0.6352 - acc: 0.6400 - val_loss: 0.6065 - val_acc: 0.6769\n",
            "Epoch 8/17\n",
            "1161/1161 [==============================] - 0s 68us/sample - loss: 0.6357 - acc: 0.6331 - val_loss: 0.6150 - val_acc: 0.6692\n",
            "Epoch 9/17\n",
            "1161/1161 [==============================] - 0s 71us/sample - loss: 0.6317 - acc: 0.6339 - val_loss: 0.6047 - val_acc: 0.6615\n",
            "Epoch 10/17\n",
            "1161/1161 [==============================] - 0s 70us/sample - loss: 0.6319 - acc: 0.6322 - val_loss: 0.6052 - val_acc: 0.6538\n",
            "Epoch 11/17\n",
            "1161/1161 [==============================] - 0s 68us/sample - loss: 0.6282 - acc: 0.6348 - val_loss: 0.6223 - val_acc: 0.6692\n",
            "Epoch 12/17\n",
            "1161/1161 [==============================] - 0s 66us/sample - loss: 0.6271 - acc: 0.6382 - val_loss: 0.6067 - val_acc: 0.6615\n",
            "Epoch 13/17\n",
            "1161/1161 [==============================] - 0s 70us/sample - loss: 0.6246 - acc: 0.6443 - val_loss: 0.6162 - val_acc: 0.6846\n",
            "Epoch 14/17\n",
            "1161/1161 [==============================] - 0s 70us/sample - loss: 0.6224 - acc: 0.6443 - val_loss: 0.6077 - val_acc: 0.7000\n",
            "Epoch 15/17\n",
            "1161/1161 [==============================] - 0s 71us/sample - loss: 0.6222 - acc: 0.6417 - val_loss: 0.6156 - val_acc: 0.6923\n",
            "Epoch 16/17\n",
            "1161/1161 [==============================] - 0s 74us/sample - loss: 0.6196 - acc: 0.6417 - val_loss: 0.6075 - val_acc: 0.6615\n",
            "Epoch 17/17\n",
            "1161/1161 [==============================] - 0s 70us/sample - loss: 0.6180 - acc: 0.6486 - val_loss: 0.6115 - val_acc: 0.7000\n",
            "130/130 [==============================] - 0s 77us/sample - loss: 0.6115 - acc: 0.7000\n",
            "Tested Acc: 0.7 Loss: 0.6115357123888456\n"
          ],
          "name": "stdout"
        }
      ]
    },
    {
      "cell_type": "markdown",
      "metadata": {
        "id": "B4rq5BLlzkLF",
        "colab_type": "text"
      },
      "source": [
        "### Loss"
      ]
    },
    {
      "cell_type": "code",
      "metadata": {
        "id": "tzOk3zgEyJq6",
        "colab_type": "code",
        "outputId": "4d6ea9e1-59ca-4a6b-bafa-6d0ebb3341d3",
        "colab": {
          "base_uri": "https://localhost:8080/",
          "height": 553
        }
      },
      "source": [
        "plt.plot(hist.history['loss'])\n",
        "plt.plot(hist.history['val_loss'])\n",
        "plt.title('Model Loss')\n",
        "plt.ylabel('Loss')\n",
        "plt.xlabel('Epoch')\n",
        "plt.legend(['Train', 'Test'], loc = 'upperright')\n",
        "plt.show()"
      ],
      "execution_count": 0,
      "outputs": [
        {
          "output_type": "stream",
          "text": [
            "/usr/local/lib/python3.6/dist-packages/ipykernel_launcher.py:6: MatplotlibDeprecationWarning: Unrecognized location 'upperright'. Falling back on 'best'; valid locations are\n",
            "\tbest\n",
            "\tupper right\n",
            "\tupper left\n",
            "\tlower left\n",
            "\tlower right\n",
            "\tright\n",
            "\tcenter left\n",
            "\tcenter right\n",
            "\tlower center\n",
            "\tupper center\n",
            "\tcenter\n",
            "This will raise an exception in 3.3.\n",
            "  \n"
          ],
          "name": "stderr"
        },
        {
          "output_type": "display_data",
          "data": {
            "image/png": "[encoded data removed]",
            "text/plain": [
              "<Figure size 432x288 with 1 Axes>"
            ]
          },
          "metadata": {
            "tags": []
          }
        }
      ]
    },
    {
      "cell_type": "markdown",
      "metadata": {
        "id": "CfjjMJl9zmrp",
        "colab_type": "text"
      },
      "source": [
        "### Accuracy"
      ]
    },
    {
      "cell_type": "code",
      "metadata": {
        "id": "Lplz5z0Wzqj_",
        "colab_type": "code",
        "outputId": "903112e9-3bfb-4718-b701-aeb7cc71e79a",
        "colab": {
          "base_uri": "https://localhost:8080/",
          "height": 553
        }
      },
      "source": [
        "plt.plot(hist.history['acc'])\n",
        "plt.plot(hist.history['val_acc'])\n",
        "plt.title('Model Accuracy')\n",
        "plt.ylabel('Accuracy')\n",
        "plt.xlabel('Epoch')\n",
        "plt.legend(['Train', 'Test'], loc = 'lowerright')\n",
        "plt.show()"
      ],
      "execution_count": 0,
      "outputs": [
        {
          "output_type": "stream",
          "text": [
            "/usr/local/lib/python3.6/dist-packages/ipykernel_launcher.py:6: MatplotlibDeprecationWarning: Unrecognized location 'lowerright'. Falling back on 'best'; valid locations are\n",
            "\tbest\n",
            "\tupper right\n",
            "\tupper left\n",
            "\tlower left\n",
            "\tlower right\n",
            "\tright\n",
            "\tcenter left\n",
            "\tcenter right\n",
            "\tlower center\n",
            "\tupper center\n",
            "\tcenter\n",
            "This will raise an exception in 3.3.\n",
            "  \n"
          ],
          "name": "stderr"
        },
        {
          "output_type": "display_data",
          "data": {
            "image/png": "[encoded data removed]",
            "text/plain": [
              "<Figure size 432x288 with 1 Axes>"
            ]
          },
          "metadata": {
            "tags": []
          }
        }
      ]
    },
    {
      "cell_type": "code",
      "metadata": {
        "id": "iPklF52myKd7",
        "colab_type": "code",
        "outputId": "253640e1-bff8-4211-ecd1-87671d2d2563",
        "colab": {
          "base_uri": "https://localhost:8080/",
          "height": 1000
        }
      },
      "source": [
        "ANN_Model.predict_proba(X_test)"
      ],
      "execution_count": 0,
      "outputs": [
        {
          "output_type": "execute_result",
          "data": {
            "text/plain": [
              "array([[0.70705247],\n",
              "       [0.5005496 ],\n",
              "       [0.7307775 ],\n",
              "       [0.5002417 ],\n",
              "       [0.7155159 ],\n",
              "       [0.32282677],\n",
              "       [0.32576507],\n",
              "       [0.5489222 ],\n",
              "       [0.36776966],\n",
              "       [0.19536269],\n",
              "       [0.5342355 ],\n",
              "       [0.5317861 ],\n",
              "       [0.5088488 ],\n",
              "       [0.7739638 ],\n",
              "       [0.4929006 ],\n",
              "       [0.44512063],\n",
              "       [0.5492856 ],\n",
              "       [0.19890755],\n",
              "       [0.45330682],\n",
              "       [0.7351171 ],\n",
              "       [0.68997335],\n",
              "       [0.08618593],\n",
              "       [0.5328963 ],\n",
              "       [0.25748438],\n",
              "       [0.40876177],\n",
              "       [0.47259957],\n",
              "       [0.18047401],\n",
              "       [0.696216  ],\n",
              "       [0.69859767],\n",
              "       [0.36718705],\n",
              "       [0.60692304],\n",
              "       [0.24744561],\n",
              "       [0.8113998 ],\n",
              "       [0.3711073 ],\n",
              "       [0.5006055 ],\n",
              "       [0.39189273],\n",
              "       [0.6508398 ],\n",
              "       [0.31643128],\n",
              "       [0.53699833],\n",
              "       [0.61236346],\n",
              "       [0.580691  ],\n",
              "       [0.36923063],\n",
              "       [0.6282209 ],\n",
              "       [0.73603475],\n",
              "       [0.5963594 ],\n",
              "       [0.07985136],\n",
              "       [0.31223893],\n",
              "       [0.33438876],\n",
              "       [0.735903  ],\n",
              "       [0.46798965],\n",
              "       [0.4937559 ],\n",
              "       [0.20354131],\n",
              "       [0.62354213],\n",
              "       [0.54984534],\n",
              "       [0.79908115],\n",
              "       [0.88838583],\n",
              "       [0.5887918 ],\n",
              "       [0.633679  ],\n",
              "       [0.34039152],\n",
              "       [0.6517565 ],\n",
              "       [0.8408781 ],\n",
              "       [0.44410634],\n",
              "       [0.75144017],\n",
              "       [0.7326014 ],\n",
              "       [0.4955348 ],\n",
              "       [0.37707174],\n",
              "       [0.80576396],\n",
              "       [0.5770883 ],\n",
              "       [0.3696527 ],\n",
              "       [0.59367144],\n",
              "       [0.44123387],\n",
              "       [0.67080224],\n",
              "       [0.77871394],\n",
              "       [0.3801072 ],\n",
              "       [0.5632662 ],\n",
              "       [0.42083526],\n",
              "       [0.80742764],\n",
              "       [0.55567515],\n",
              "       [0.7624325 ],\n",
              "       [0.5211144 ],\n",
              "       [0.5256871 ],\n",
              "       [0.76267076],\n",
              "       [0.52502686],\n",
              "       [0.50222063],\n",
              "       [0.62917775],\n",
              "       [0.2851264 ],\n",
              "       [0.30050865],\n",
              "       [0.67498654],\n",
              "       [0.5527335 ],\n",
              "       [0.40611517],\n",
              "       [0.19729874],\n",
              "       [0.4049397 ],\n",
              "       [0.3370778 ],\n",
              "       [0.7964633 ],\n",
              "       [0.77134097],\n",
              "       [0.704925  ],\n",
              "       [0.37957996],\n",
              "       [0.6200235 ],\n",
              "       [0.5589644 ],\n",
              "       [0.5807447 ],\n",
              "       [0.3903606 ],\n",
              "       [0.57973903],\n",
              "       [0.74892193],\n",
              "       [0.44625533],\n",
              "       [0.66981685],\n",
              "       [0.22883728],\n",
              "       [0.5859369 ],\n",
              "       [0.39550635],\n",
              "       [0.37555838],\n",
              "       [0.52576107],\n",
              "       [0.3323756 ],\n",
              "       [0.7975942 ],\n",
              "       [0.7732372 ],\n",
              "       [0.88033426],\n",
              "       [0.5977637 ],\n",
              "       [0.8047188 ],\n",
              "       [0.159121  ],\n",
              "       [0.6742801 ],\n",
              "       [0.20185685],\n",
              "       [0.26144427],\n",
              "       [0.44657278],\n",
              "       [0.5550837 ],\n",
              "       [0.6357012 ],\n",
              "       [0.22279632],\n",
              "       [0.6524369 ],\n",
              "       [0.80887663],\n",
              "       [0.7052718 ],\n",
              "       [0.5343628 ],\n",
              "       [0.5070712 ],\n",
              "       [0.37251544]], dtype=float32)"
            ]
          },
          "metadata": {
            "tags": []
          },
          "execution_count": 25
        }
      ]
    },
    {
      "cell_type": "code",
      "metadata": {
        "id": "K7A2PAszqLVH",
        "colab_type": "code",
        "outputId": "83cc5e41-3390-4bf8-c13c-003a006f14e3",
        "colab": {
          "base_uri": "https://localhost:8080/",
          "height": 238
        }
      },
      "source": [
        "target_names= ['Loses','Wins']\n",
        "print(\"Predicting winers\")\n",
        "t0 = time()\n",
        "y_pred = np.where(ANN_Model.predict_proba(X_test) > 0.5, 1, 0)\n",
        "print(\"done in {}s\".format(time() - t0))\n",
        "\n",
        "print(classification_report(y_test, y_pred, target_names=target_names))\n",
        "print(confusion_matrix(y_test, y_pred, labels=[0,1]))"
      ],
      "execution_count": 0,
      "outputs": [
        {
          "output_type": "stream",
          "text": [
            "Predicting winers\n",
            "done in 0.017824888229370117s\n",
            "              precision    recall  f1-score   support\n",
            "\n",
            "       Loses       0.79      0.59      0.68        69\n",
            "        Wins       0.64      0.82      0.72        61\n",
            "\n",
            "    accuracy                           0.70       130\n",
            "   macro avg       0.71      0.71      0.70       130\n",
            "weighted avg       0.72      0.70      0.70       130\n",
            "\n",
            "[[41 28]\n",
            " [11 50]]\n"
          ],
          "name": "stdout"
        }
      ]
    },
    {
      "cell_type": "markdown",
      "metadata": {
        "id": "sKJwAHnhD5iT",
        "colab_type": "text"
      },
      "source": [
        "## Choosing the best model by comparing performance"
      ]
    },
    {
      "cell_type": "code",
      "metadata": {
        "id": "iMkZuExmkVpd",
        "colab_type": "code",
        "outputId": "47e504dc-6595-4b88-b0ba-e69008a86c3c",
        "colab": {
          "base_uri": "https://localhost:8080/",
          "height": 353
        }
      },
      "source": [
        "from sklearn.metrics import roc_auc_score\n",
        "from sklearn.metrics import roc_curve, auc\n",
        "import matplotlib.pyplot as plt\n",
        "plt.style.use('ggplot')\n",
        "%matplotlib inline\n",
        "\n",
        "# Probabilities for each class for each classifier.\n",
        "\n",
        "RFprobs = Model.predict_proba(X_test)[:, 1]\n",
        "LRprobs = lr.predict_proba(X_test)[:, 1]\n",
        "SVMprobs = Model2.predict_proba(X_test)[:, 1]\n",
        "ANNprobs = ANN_Model.predict_proba(X_test)\n",
        "\n",
        "\n",
        "\n",
        "fpr_Model, tpr_Model, _ = roc_curve(y_test, RFprobs)\n",
        "roc_auc_Model = auc(fpr_Model, tpr_Model)\n",
        "\n",
        "fpr_LR, tpr_LR, _ = roc_curve(y_test, LRprobs)\n",
        "roc_auc_LR = auc(fpr_LR, tpr_LR)\n",
        "\n",
        "fpr_svm, tpr_svm, _ = roc_curve(y_test, SVMprobs)\n",
        "roc_auc_svm = auc(fpr_svm, tpr_svm)\n",
        "\n",
        "fpr_ANN, tpr_ANN, _ = roc_curve(y_test, ANNprobs)\n",
        "roc_auc_ANN = auc(fpr_ANN, tpr_ANN)\n",
        "\n",
        "\n",
        "\n",
        "plt.figure()\n",
        "plt.plot(fpr_Model, tpr_Model, color='aqua', linestyle='--', linewidth=3,\n",
        "         lw=2, label='RF (area = %0.2f)' % roc_auc_Model)\n",
        "plt.plot(fpr_LR, tpr_LR, color='deeppink', linestyle=':', linewidth=4,\n",
        "         lw=2, label='LR (area = %0.2f)' % roc_auc_LR)\n",
        "plt.plot(fpr_svm, tpr_svm, color='navy',\n",
        "         lw=2, label='SVM (area = %0.2f)' % roc_auc_svm)\n",
        "plt.plot(fpr_ANN, tpr_ANN, color='darkgreen',\n",
        "         lw=2, label='ANN (area = %0.2f)' % roc_auc_ANN)\n",
        "\n",
        "plt.plot([0, 1], [0, 1], color='k', lw=2, linestyle='--')\n",
        "plt.xlim([0.0, 1.0])\n",
        "plt.ylim([0.0, 1.05])\n",
        "plt.xlabel('False Positive Rate')\n",
        "plt.ylabel('True Positive Rate')\n",
        "plt.title('ROC Curve')\n",
        "plt.legend(loc=\"lower right\")\n",
        "plt.show()"
      ],
      "execution_count": 0,
      "outputs": [
        {
          "output_type": "stream",
          "text": [
            "/usr/local/lib/python3.6/dist-packages/ipykernel_launcher.py:32: MatplotlibDeprecationWarning: Saw kwargs ['lw', 'linewidth'] which are all aliases for 'linewidth'.  Kept value from 'linewidth'.  Passing multiple aliases for the same property will raise a TypeError in 3.3.\n",
            "/usr/local/lib/python3.6/dist-packages/ipykernel_launcher.py:34: MatplotlibDeprecationWarning: Saw kwargs ['lw', 'linewidth'] which are all aliases for 'linewidth'.  Kept value from 'linewidth'.  Passing multiple aliases for the same property will raise a TypeError in 3.3.\n"
          ],
          "name": "stderr"
        },
        {
          "output_type": "display_data",
          "data": {
            "image/png": "[encoded data removed]",
            "text/plain": [
              "<Figure size 432x288 with 1 Axes>"
            ]
          },
          "metadata": {
            "tags": []
          }
        }
      ]
    },
    {
      "cell_type": "markdown",
      "metadata": {
        "id": "ilu7A4bXEK2W",
        "colab_type": "text"
      },
      "source": [
        "# Best Model is Logistic Regression and Random Forest"
      ]
    },
    {
      "cell_type": "markdown",
      "metadata": {
        "id": "C-PR92NHEj0n",
        "colab_type": "text"
      },
      "source": [
        "## Score System to see the best player\n",
        "\n",
        "The last 8 rows correspond to the prediction games for task 2. Therefore (11772, 61) is all players playing vs all players\n",
        "\n",
        "and \n",
        "\n",
        "(8,61) corresponds to the players in interest for prediction"
      ]
    },
    {
      "cell_type": "code",
      "metadata": {
        "id": "Wauh6TSIEKWe",
        "colab_type": "code",
        "outputId": "fb999147-5a83-4e51-a65f-157241ba9a83",
        "colab": {
          "resources": {
            "http://localhost:8080/nbextensions/google.colab/files.js": {
              "data": "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",
              "ok": true,
              "headers": [
                [
                  "content-type",
                  "application/javascript"
                ]
              ],
              "status": 200,
              "status_text": ""
            }
          },
          "base_uri": "https://localhost:8080/",
          "height": 71
        }
      },
      "source": [
        "uploaded = files.upload()\n",
        "Data = pd.read_csv(io.StringIO(uploaded['evaluationset.csv'].decode('utf-8')))"
      ],
      "execution_count": 0,
      "outputs": [
        {
          "output_type": "display_data",
          "data": {
            "text/html": [
              "\n",
              "     <input type=\"file\" id=\"files-ef493792-a44c-4b34-a524-7ae17c82adc4\" name=\"files[]\" multiple disabled />\n",
              "     <output id=\"result-ef493792-a44c-4b34-a524-7ae17c82adc4\">\n",
              "      Upload widget is only available when the cell has been executed in the\n",
              "      current browser session. Please rerun this cell to enable.\n",
              "      </output>\n",
              "      <script src=\"/nbextensions/google.colab/files.js\"></script> "
            ],
            "text/plain": [
              "<IPython.core.display.HTML object>"
            ]
          },
          "metadata": {
            "tags": []
          }
        },
        {
          "output_type": "stream",
          "text": [
            "Saving evaluationset.csv to evaluationset.csv\n"
          ],
          "name": "stdout"
        }
      ]
    },
    {
      "cell_type": "code",
      "metadata": {
        "id": "L7CLJQC-JoEr",
        "colab_type": "code",
        "outputId": "43929c8d-4403-4d9d-e75e-2ec877f64d83",
        "colab": {
          "base_uri": "https://localhost:8080/",
          "height": 34
        }
      },
      "source": [
        "# Converting the home countries to binary with hot encode\n",
        "\n",
        "Data = pd.get_dummies(Data, columns=[\"Home Player Country\"])\n",
        "\n",
        "Data = pd.get_dummies(Data, columns=[\"Away Player Country\"])\n",
        "\n",
        "columns = Data.columns\n",
        "\n",
        "\n",
        "\n",
        "\n",
        "# Normalizing data\n",
        "\n",
        "\n",
        "# Applying the minmax normalization.\n",
        "min_max_scaler = preprocessing.MinMaxScaler()\n",
        "x_scaled = min_max_scaler.fit_transform(Data.iloc[:,:])\n",
        "\n",
        "\n",
        "x_scaled.shape"
      ],
      "execution_count": 0,
      "outputs": [
        {
          "output_type": "execute_result",
          "data": {
            "text/plain": [
              "(11780, 66)"
            ]
          },
          "metadata": {
            "tags": []
          },
          "execution_count": 38
        }
      ]
    },
    {
      "cell_type": "code",
      "metadata": {
        "id": "TOI7OBJQKTPG",
        "colab_type": "code",
        "outputId": "37823860-02f6-4a07-d5c0-f3e152c5849f",
        "colab": {
          "base_uri": "https://localhost:8080/",
          "height": 275
        }
      },
      "source": [
        "Data = pd.DataFrame(x_scaled)\n",
        "Data.columns = columns[:]\n",
        "\n",
        "Data.head()"
      ],
      "execution_count": 0,
      "outputs": [
        {
          "output_type": "execute_result",
          "data": {
            "text/html": [
              "<div>\n",
              "<style scoped>\n",
              "    .dataframe tbody tr th:only-of-type {\n",
              "        vertical-align: middle;\n",
              "    }\n",
              "\n",
              "    .dataframe tbody tr th {\n",
              "        vertical-align: top;\n",
              "    }\n",
              "\n",
              "    .dataframe thead th {\n",
              "        text-align: right;\n",
              "    }\n",
              "</style>\n",
              "<table border=\"1\" class=\"dataframe\">\n",
              "  <thead>\n",
              "    <tr style=\"text-align: right;\">\n",
              "      <th></th>\n",
              "      <th>Date</th>\n",
              "      <th>Difference of Age: Home Player</th>\n",
              "      <th>Difference Height: Home Player</th>\n",
              "      <th>Difference Weight: Home Player</th>\n",
              "      <th>Home_Age</th>\n",
              "      <th>Home_Height</th>\n",
              "      <th>Home_Weight</th>\n",
              "      <th>Away_Age</th>\n",
              "      <th>Away_Height</th>\n",
              "      <th>Away_Weight</th>\n",
              "      <th>Home Player Country_Australia</th>\n",
              "      <th>Home Player Country_Bosnia and Herzegovina</th>\n",
              "      <th>Home Player Country_Brazil</th>\n",
              "      <th>Home Player Country_Cameroon</th>\n",
              "      <th>Home Player Country_Canada</th>\n",
              "      <th>Home Player Country_Croatia</th>\n",
              "      <th>Home Player Country_Democratic Republic of Congo</th>\n",
              "      <th>Home Player Country_Dominican Republic</th>\n",
              "      <th>Home Player Country_France</th>\n",
              "      <th>Home Player Country_Germany</th>\n",
              "      <th>Home Player Country_Greece</th>\n",
              "      <th>Home Player Country_Haiti</th>\n",
              "      <th>Home Player Country_Israel</th>\n",
              "      <th>Home Player Country_Latvia</th>\n",
              "      <th>Home Player Country_Lithuania</th>\n",
              "      <th>Home Player Country_Montenegro</th>\n",
              "      <th>Home Player Country_NBA</th>\n",
              "      <th>Home Player Country_New Zealand</th>\n",
              "      <th>Home Player Country_Poland</th>\n",
              "      <th>Home Player Country_Russia</th>\n",
              "      <th>Home Player Country_Serbia</th>\n",
              "      <th>Home Player Country_South Sudan</th>\n",
              "      <th>Home Player Country_Spain</th>\n",
              "      <th>Home Player Country_Switzerland</th>\n",
              "      <th>Home Player Country_Tunisia</th>\n",
              "      <th>Home Player Country_Turkey</th>\n",
              "      <th>Home Player Country_USA</th>\n",
              "      <th>Home Player Country_Ukraine</th>\n",
              "      <th>Away Player Country_Australia</th>\n",
              "      <th>Away Player Country_Bosnia and Herzegovina</th>\n",
              "      <th>Away Player Country_Brazil</th>\n",
              "      <th>Away Player Country_Cameroon</th>\n",
              "      <th>Away Player Country_Canada</th>\n",
              "      <th>Away Player Country_Croatia</th>\n",
              "      <th>Away Player Country_Democratic Republic of Congo</th>\n",
              "      <th>Away Player Country_Dominican Republic</th>\n",
              "      <th>Away Player Country_France</th>\n",
              "      <th>Away Player Country_Germany</th>\n",
              "      <th>Away Player Country_Greece</th>\n",
              "      <th>Away Player Country_Haiti</th>\n",
              "      <th>Away Player Country_Israel</th>\n",
              "      <th>Away Player Country_Latvia</th>\n",
              "      <th>Away Player Country_Lithuania</th>\n",
              "      <th>Away Player Country_Montenegro</th>\n",
              "      <th>Away Player Country_NBA</th>\n",
              "      <th>Away Player Country_New Zealand</th>\n",
              "      <th>Away Player Country_Poland</th>\n",
              "      <th>Away Player Country_Russia</th>\n",
              "      <th>Away Player Country_Serbia</th>\n",
              "      <th>Away Player Country_South Sudan</th>\n",
              "      <th>Away Player Country_Spain</th>\n",
              "      <th>Away Player Country_Switzerland</th>\n",
              "      <th>Away Player Country_Tunisia</th>\n",
              "      <th>Away Player Country_Turkey</th>\n",
              "      <th>Away Player Country_USA</th>\n",
              "      <th>Away Player Country_Ukraine</th>\n",
              "    </tr>\n",
              "  </thead>\n",
              "  <tbody>\n",
              "    <tr>\n",
              "      <th>0</th>\n",
              "      <td>0.0</td>\n",
              "      <td>0.472222</td>\n",
              "      <td>0.500000</td>\n",
              "      <td>0.323232</td>\n",
              "      <td>0.666667</td>\n",
              "      <td>0.545455</td>\n",
              "      <td>0.545455</td>\n",
              "      <td>0.722222</td>\n",
              "      <td>0.545455</td>\n",
              "      <td>0.898990</td>\n",
              "      <td>0.0</td>\n",
              "      <td>0.0</td>\n",
              "      <td>0.0</td>\n",
              "      <td>0.0</td>\n",
              "      <td>0.0</td>\n",
              "      <td>0.0</td>\n",
              "      <td>0.0</td>\n",
              "      <td>1.0</td>\n",
              "      <td>0.0</td>\n",
              "      <td>0.0</td>\n",
              "      <td>0.0</td>\n",
              "      <td>0.0</td>\n",
              "      <td>0.0</td>\n",
              "      <td>0.0</td>\n",
              "      <td>0.0</td>\n",
              "      <td>0.0</td>\n",
              "      <td>0.0</td>\n",
              "      <td>0.0</td>\n",
              "      <td>0.0</td>\n",
              "      <td>0.0</td>\n",
              "      <td>0.0</td>\n",
              "      <td>0.0</td>\n",
              "      <td>0.0</td>\n",
              "      <td>0.0</td>\n",
              "      <td>0.0</td>\n",
              "      <td>0.0</td>\n",
              "      <td>0.0</td>\n",
              "      <td>0.0</td>\n",
              "      <td>0.0</td>\n",
              "      <td>0.0</td>\n",
              "      <td>0.0</td>\n",
              "      <td>0.0</td>\n",
              "      <td>0.0</td>\n",
              "      <td>0.0</td>\n",
              "      <td>0.0</td>\n",
              "      <td>0.0</td>\n",
              "      <td>0.0</td>\n",
              "      <td>0.0</td>\n",
              "      <td>0.0</td>\n",
              "      <td>0.0</td>\n",
              "      <td>0.0</td>\n",
              "      <td>0.0</td>\n",
              "      <td>0.0</td>\n",
              "      <td>0.0</td>\n",
              "      <td>0.0</td>\n",
              "      <td>0.0</td>\n",
              "      <td>0.0</td>\n",
              "      <td>0.0</td>\n",
              "      <td>0.0</td>\n",
              "      <td>0.0</td>\n",
              "      <td>0.0</td>\n",
              "      <td>0.0</td>\n",
              "      <td>0.0</td>\n",
              "      <td>0.0</td>\n",
              "      <td>1.0</td>\n",
              "      <td>0.0</td>\n",
              "    </tr>\n",
              "    <tr>\n",
              "      <th>1</th>\n",
              "      <td>0.0</td>\n",
              "      <td>0.694444</td>\n",
              "      <td>0.363636</td>\n",
              "      <td>0.474747</td>\n",
              "      <td>0.666667</td>\n",
              "      <td>0.545455</td>\n",
              "      <td>0.545455</td>\n",
              "      <td>0.277778</td>\n",
              "      <td>0.818182</td>\n",
              "      <td>0.595960</td>\n",
              "      <td>0.0</td>\n",
              "      <td>0.0</td>\n",
              "      <td>0.0</td>\n",
              "      <td>0.0</td>\n",
              "      <td>0.0</td>\n",
              "      <td>0.0</td>\n",
              "      <td>0.0</td>\n",
              "      <td>1.0</td>\n",
              "      <td>0.0</td>\n",
              "      <td>0.0</td>\n",
              "      <td>0.0</td>\n",
              "      <td>0.0</td>\n",
              "      <td>0.0</td>\n",
              "      <td>0.0</td>\n",
              "      <td>0.0</td>\n",
              "      <td>0.0</td>\n",
              "      <td>0.0</td>\n",
              "      <td>0.0</td>\n",
              "      <td>0.0</td>\n",
              "      <td>0.0</td>\n",
              "      <td>0.0</td>\n",
              "      <td>0.0</td>\n",
              "      <td>0.0</td>\n",
              "      <td>0.0</td>\n",
              "      <td>0.0</td>\n",
              "      <td>0.0</td>\n",
              "      <td>0.0</td>\n",
              "      <td>0.0</td>\n",
              "      <td>0.0</td>\n",
              "      <td>0.0</td>\n",
              "      <td>0.0</td>\n",
              "      <td>0.0</td>\n",
              "      <td>0.0</td>\n",
              "      <td>0.0</td>\n",
              "      <td>0.0</td>\n",
              "      <td>0.0</td>\n",
              "      <td>0.0</td>\n",
              "      <td>0.0</td>\n",
              "      <td>0.0</td>\n",
              "      <td>0.0</td>\n",
              "      <td>0.0</td>\n",
              "      <td>0.0</td>\n",
              "      <td>0.0</td>\n",
              "      <td>0.0</td>\n",
              "      <td>0.0</td>\n",
              "      <td>0.0</td>\n",
              "      <td>0.0</td>\n",
              "      <td>0.0</td>\n",
              "      <td>0.0</td>\n",
              "      <td>0.0</td>\n",
              "      <td>0.0</td>\n",
              "      <td>0.0</td>\n",
              "      <td>0.0</td>\n",
              "      <td>0.0</td>\n",
              "      <td>0.0</td>\n",
              "      <td>1.0</td>\n",
              "    </tr>\n",
              "    <tr>\n",
              "      <th>2</th>\n",
              "      <td>0.0</td>\n",
              "      <td>0.527778</td>\n",
              "      <td>0.545455</td>\n",
              "      <td>0.525253</td>\n",
              "      <td>0.666667</td>\n",
              "      <td>0.545455</td>\n",
              "      <td>0.545455</td>\n",
              "      <td>0.611111</td>\n",
              "      <td>0.454545</td>\n",
              "      <td>0.494949</td>\n",
              "      <td>0.0</td>\n",
              "      <td>0.0</td>\n",
              "      <td>0.0</td>\n",
              "      <td>0.0</td>\n",
              "      <td>0.0</td>\n",
              "      <td>0.0</td>\n",
              "      <td>0.0</td>\n",
              "      <td>1.0</td>\n",
              "      <td>0.0</td>\n",
              "      <td>0.0</td>\n",
              "      <td>0.0</td>\n",
              "      <td>0.0</td>\n",
              "      <td>0.0</td>\n",
              "      <td>0.0</td>\n",
              "      <td>0.0</td>\n",
              "      <td>0.0</td>\n",
              "      <td>0.0</td>\n",
              "      <td>0.0</td>\n",
              "      <td>0.0</td>\n",
              "      <td>0.0</td>\n",
              "      <td>0.0</td>\n",
              "      <td>0.0</td>\n",
              "      <td>0.0</td>\n",
              "      <td>0.0</td>\n",
              "      <td>0.0</td>\n",
              "      <td>0.0</td>\n",
              "      <td>0.0</td>\n",
              "      <td>0.0</td>\n",
              "      <td>0.0</td>\n",
              "      <td>0.0</td>\n",
              "      <td>0.0</td>\n",
              "      <td>0.0</td>\n",
              "      <td>0.0</td>\n",
              "      <td>0.0</td>\n",
              "      <td>0.0</td>\n",
              "      <td>0.0</td>\n",
              "      <td>0.0</td>\n",
              "      <td>0.0</td>\n",
              "      <td>0.0</td>\n",
              "      <td>0.0</td>\n",
              "      <td>0.0</td>\n",
              "      <td>0.0</td>\n",
              "      <td>0.0</td>\n",
              "      <td>0.0</td>\n",
              "      <td>0.0</td>\n",
              "      <td>0.0</td>\n",
              "      <td>0.0</td>\n",
              "      <td>0.0</td>\n",
              "      <td>0.0</td>\n",
              "      <td>0.0</td>\n",
              "      <td>0.0</td>\n",
              "      <td>0.0</td>\n",
              "      <td>0.0</td>\n",
              "      <td>0.0</td>\n",
              "      <td>1.0</td>\n",
              "      <td>0.0</td>\n",
              "    </tr>\n",
              "    <tr>\n",
              "      <th>3</th>\n",
              "      <td>0.0</td>\n",
              "      <td>0.694444</td>\n",
              "      <td>0.454545</td>\n",
              "      <td>0.328283</td>\n",
              "      <td>0.666667</td>\n",
              "      <td>0.545455</td>\n",
              "      <td>0.545455</td>\n",
              "      <td>0.277778</td>\n",
              "      <td>0.636364</td>\n",
              "      <td>0.888889</td>\n",
              "      <td>0.0</td>\n",
              "      <td>0.0</td>\n",
              "      <td>0.0</td>\n",
              "      <td>0.0</td>\n",
              "      <td>0.0</td>\n",
              "      <td>0.0</td>\n",
              "      <td>0.0</td>\n",
              "      <td>1.0</td>\n",
              "      <td>0.0</td>\n",
              "      <td>0.0</td>\n",
              "      <td>0.0</td>\n",
              "      <td>0.0</td>\n",
              "      <td>0.0</td>\n",
              "      <td>0.0</td>\n",
              "      <td>0.0</td>\n",
              "      <td>0.0</td>\n",
              "      <td>0.0</td>\n",
              "      <td>0.0</td>\n",
              "      <td>0.0</td>\n",
              "      <td>0.0</td>\n",
              "      <td>0.0</td>\n",
              "      <td>0.0</td>\n",
              "      <td>0.0</td>\n",
              "      <td>0.0</td>\n",
              "      <td>0.0</td>\n",
              "      <td>0.0</td>\n",
              "      <td>0.0</td>\n",
              "      <td>0.0</td>\n",
              "      <td>0.0</td>\n",
              "      <td>0.0</td>\n",
              "      <td>0.0</td>\n",
              "      <td>0.0</td>\n",
              "      <td>0.0</td>\n",
              "      <td>0.0</td>\n",
              "      <td>0.0</td>\n",
              "      <td>0.0</td>\n",
              "      <td>0.0</td>\n",
              "      <td>0.0</td>\n",
              "      <td>0.0</td>\n",
              "      <td>0.0</td>\n",
              "      <td>0.0</td>\n",
              "      <td>0.0</td>\n",
              "      <td>0.0</td>\n",
              "      <td>0.0</td>\n",
              "      <td>0.0</td>\n",
              "      <td>0.0</td>\n",
              "      <td>0.0</td>\n",
              "      <td>0.0</td>\n",
              "      <td>0.0</td>\n",
              "      <td>0.0</td>\n",
              "      <td>0.0</td>\n",
              "      <td>0.0</td>\n",
              "      <td>0.0</td>\n",
              "      <td>0.0</td>\n",
              "      <td>1.0</td>\n",
              "      <td>0.0</td>\n",
              "    </tr>\n",
              "    <tr>\n",
              "      <th>4</th>\n",
              "      <td>0.0</td>\n",
              "      <td>0.472222</td>\n",
              "      <td>0.409091</td>\n",
              "      <td>0.424242</td>\n",
              "      <td>0.666667</td>\n",
              "      <td>0.545455</td>\n",
              "      <td>0.545455</td>\n",
              "      <td>0.722222</td>\n",
              "      <td>0.727273</td>\n",
              "      <td>0.696970</td>\n",
              "      <td>0.0</td>\n",
              "      <td>0.0</td>\n",
              "      <td>0.0</td>\n",
              "      <td>0.0</td>\n",
              "      <td>0.0</td>\n",
              "      <td>0.0</td>\n",
              "      <td>0.0</td>\n",
              "      <td>1.0</td>\n",
              "      <td>0.0</td>\n",
              "      <td>0.0</td>\n",
              "      <td>0.0</td>\n",
              "      <td>0.0</td>\n",
              "      <td>0.0</td>\n",
              "      <td>0.0</td>\n",
              "      <td>0.0</td>\n",
              "      <td>0.0</td>\n",
              "      <td>0.0</td>\n",
              "      <td>0.0</td>\n",
              "      <td>0.0</td>\n",
              "      <td>0.0</td>\n",
              "      <td>0.0</td>\n",
              "      <td>0.0</td>\n",
              "      <td>0.0</td>\n",
              "      <td>0.0</td>\n",
              "      <td>0.0</td>\n",
              "      <td>0.0</td>\n",
              "      <td>0.0</td>\n",
              "      <td>0.0</td>\n",
              "      <td>1.0</td>\n",
              "      <td>0.0</td>\n",
              "      <td>0.0</td>\n",
              "      <td>0.0</td>\n",
              "      <td>0.0</td>\n",
              "      <td>0.0</td>\n",
              "      <td>0.0</td>\n",
              "      <td>0.0</td>\n",
              "      <td>0.0</td>\n",
              "      <td>0.0</td>\n",
              "      <td>0.0</td>\n",
              "      <td>0.0</td>\n",
              "      <td>0.0</td>\n",
              "      <td>0.0</td>\n",
              "      <td>0.0</td>\n",
              "      <td>0.0</td>\n",
              "      <td>0.0</td>\n",
              "      <td>0.0</td>\n",
              "      <td>0.0</td>\n",
              "      <td>0.0</td>\n",
              "      <td>0.0</td>\n",
              "      <td>0.0</td>\n",
              "      <td>0.0</td>\n",
              "      <td>0.0</td>\n",
              "      <td>0.0</td>\n",
              "      <td>0.0</td>\n",
              "      <td>0.0</td>\n",
              "      <td>0.0</td>\n",
              "    </tr>\n",
              "  </tbody>\n",
              "</table>\n",
              "</div>"
            ],
            "text/plain": [
              "   Date  ...  Away Player Country_Ukraine\n",
              "0   0.0  ...                          0.0\n",
              "1   0.0  ...                          1.0\n",
              "2   0.0  ...                          0.0\n",
              "3   0.0  ...                          0.0\n",
              "4   0.0  ...                          0.0\n",
              "\n",
              "[5 rows x 66 columns]"
            ]
          },
          "metadata": {
            "tags": []
          },
          "execution_count": 39
        }
      ]
    },
    {
      "cell_type": "code",
      "metadata": {
        "id": "rXhlgLaCOMmp",
        "colab_type": "code",
        "colab": {}
      },
      "source": [
        "# Dropping columns that were not in the model:\n",
        "\n",
        "Data = Data.drop([\"Home Player Country_Israel\",'Home Player Country_NBA','Home Player Country_Tunisia',\n",
        "                  'Home Player Country_Turkey','Away Player Country_Turkey'], axis=1)"
      ],
      "execution_count": 0,
      "outputs": []
    },
    {
      "cell_type": "code",
      "metadata": {
        "id": "R-gqLsg9P_Cb",
        "colab_type": "code",
        "outputId": "5e1bb5f5-0122-4f71-c494-879458d09f1a",
        "colab": {
          "base_uri": "https://localhost:8080/",
          "height": 275
        }
      },
      "source": [
        "Data.Date = 1\n",
        "Data.head()"
      ],
      "execution_count": 0,
      "outputs": [
        {
          "output_type": "execute_result",
          "data": {
            "text/html": [
              "<div>\n",
              "<style scoped>\n",
              "    .dataframe tbody tr th:only-of-type {\n",
              "        vertical-align: middle;\n",
              "    }\n",
              "\n",
              "    .dataframe tbody tr th {\n",
              "        vertical-align: top;\n",
              "    }\n",
              "\n",
              "    .dataframe thead th {\n",
              "        text-align: right;\n",
              "    }\n",
              "</style>\n",
              "<table border=\"1\" class=\"dataframe\">\n",
              "  <thead>\n",
              "    <tr style=\"text-align: right;\">\n",
              "      <th></th>\n",
              "      <th>Date</th>\n",
              "      <th>Difference of Age: Home Player</th>\n",
              "      <th>Difference Height: Home Player</th>\n",
              "      <th>Difference Weight: Home Player</th>\n",
              "      <th>Home_Age</th>\n",
              "      <th>Home_Height</th>\n",
              "      <th>Home_Weight</th>\n",
              "      <th>Away_Age</th>\n",
              "      <th>Away_Height</th>\n",
              "      <th>Away_Weight</th>\n",
              "      <th>Home Player Country_Australia</th>\n",
              "      <th>Home Player Country_Bosnia and Herzegovina</th>\n",
              "      <th>Home Player Country_Brazil</th>\n",
              "      <th>Home Player Country_Cameroon</th>\n",
              "      <th>Home Player Country_Canada</th>\n",
              "      <th>Home Player Country_Croatia</th>\n",
              "      <th>Home Player Country_Democratic Republic of Congo</th>\n",
              "      <th>Home Player Country_Dominican Republic</th>\n",
              "      <th>Home Player Country_France</th>\n",
              "      <th>Home Player Country_Germany</th>\n",
              "      <th>Home Player Country_Greece</th>\n",
              "      <th>Home Player Country_Haiti</th>\n",
              "      <th>Home Player Country_Latvia</th>\n",
              "      <th>Home Player Country_Lithuania</th>\n",
              "      <th>Home Player Country_Montenegro</th>\n",
              "      <th>Home Player Country_New Zealand</th>\n",
              "      <th>Home Player Country_Poland</th>\n",
              "      <th>Home Player Country_Russia</th>\n",
              "      <th>Home Player Country_Serbia</th>\n",
              "      <th>Home Player Country_South Sudan</th>\n",
              "      <th>Home Player Country_Spain</th>\n",
              "      <th>Home Player Country_Switzerland</th>\n",
              "      <th>Home Player Country_USA</th>\n",
              "      <th>Home Player Country_Ukraine</th>\n",
              "      <th>Away Player Country_Australia</th>\n",
              "      <th>Away Player Country_Bosnia and Herzegovina</th>\n",
              "      <th>Away Player Country_Brazil</th>\n",
              "      <th>Away Player Country_Cameroon</th>\n",
              "      <th>Away Player Country_Canada</th>\n",
              "      <th>Away Player Country_Croatia</th>\n",
              "      <th>Away Player Country_Democratic Republic of Congo</th>\n",
              "      <th>Away Player Country_Dominican Republic</th>\n",
              "      <th>Away Player Country_France</th>\n",
              "      <th>Away Player Country_Germany</th>\n",
              "      <th>Away Player Country_Greece</th>\n",
              "      <th>Away Player Country_Haiti</th>\n",
              "      <th>Away Player Country_Israel</th>\n",
              "      <th>Away Player Country_Latvia</th>\n",
              "      <th>Away Player Country_Lithuania</th>\n",
              "      <th>Away Player Country_Montenegro</th>\n",
              "      <th>Away Player Country_NBA</th>\n",
              "      <th>Away Player Country_New Zealand</th>\n",
              "      <th>Away Player Country_Poland</th>\n",
              "      <th>Away Player Country_Russia</th>\n",
              "      <th>Away Player Country_Serbia</th>\n",
              "      <th>Away Player Country_South Sudan</th>\n",
              "      <th>Away Player Country_Spain</th>\n",
              "      <th>Away Player Country_Switzerland</th>\n",
              "      <th>Away Player Country_Tunisia</th>\n",
              "      <th>Away Player Country_USA</th>\n",
              "      <th>Away Player Country_Ukraine</th>\n",
              "    </tr>\n",
              "  </thead>\n",
              "  <tbody>\n",
              "    <tr>\n",
              "      <th>0</th>\n",
              "      <td>1</td>\n",
              "      <td>0.472222</td>\n",
              "      <td>0.500000</td>\n",
              "      <td>0.323232</td>\n",
              "      <td>0.666667</td>\n",
              "      <td>0.545455</td>\n",
              "      <td>0.545455</td>\n",
              "      <td>0.722222</td>\n",
              "      <td>0.545455</td>\n",
              "      <td>0.898990</td>\n",
              "      <td>0.0</td>\n",
              "      <td>0.0</td>\n",
              "      <td>0.0</td>\n",
              "      <td>0.0</td>\n",
              "      <td>0.0</td>\n",
              "      <td>0.0</td>\n",
              "      <td>0.0</td>\n",
              "      <td>1.0</td>\n",
              "      <td>0.0</td>\n",
              "      <td>0.0</td>\n",
              "      <td>0.0</td>\n",
              "      <td>0.0</td>\n",
              "      <td>0.0</td>\n",
              "      <td>0.0</td>\n",
              "      <td>0.0</td>\n",
              "      <td>0.0</td>\n",
              "      <td>0.0</td>\n",
              "      <td>0.0</td>\n",
              "      <td>0.0</td>\n",
              "      <td>0.0</td>\n",
              "      <td>0.0</td>\n",
              "      <td>0.0</td>\n",
              "      <td>0.0</td>\n",
              "      <td>0.0</td>\n",
              "      <td>0.0</td>\n",
              "      <td>0.0</td>\n",
              "      <td>0.0</td>\n",
              "      <td>0.0</td>\n",
              "      <td>0.0</td>\n",
              "      <td>0.0</td>\n",
              "      <td>0.0</td>\n",
              "      <td>0.0</td>\n",
              "      <td>0.0</td>\n",
              "      <td>0.0</td>\n",
              "      <td>0.0</td>\n",
              "      <td>0.0</td>\n",
              "      <td>0.0</td>\n",
              "      <td>0.0</td>\n",
              "      <td>0.0</td>\n",
              "      <td>0.0</td>\n",
              "      <td>0.0</td>\n",
              "      <td>0.0</td>\n",
              "      <td>0.0</td>\n",
              "      <td>0.0</td>\n",
              "      <td>0.0</td>\n",
              "      <td>0.0</td>\n",
              "      <td>0.0</td>\n",
              "      <td>0.0</td>\n",
              "      <td>0.0</td>\n",
              "      <td>1.0</td>\n",
              "      <td>0.0</td>\n",
              "    </tr>\n",
              "    <tr>\n",
              "      <th>1</th>\n",
              "      <td>1</td>\n",
              "      <td>0.694444</td>\n",
              "      <td>0.363636</td>\n",
              "      <td>0.474747</td>\n",
              "      <td>0.666667</td>\n",
              "      <td>0.545455</td>\n",
              "      <td>0.545455</td>\n",
              "      <td>0.277778</td>\n",
              "      <td>0.818182</td>\n",
              "      <td>0.595960</td>\n",
              "      <td>0.0</td>\n",
              "      <td>0.0</td>\n",
              "      <td>0.0</td>\n",
              "      <td>0.0</td>\n",
              "      <td>0.0</td>\n",
              "      <td>0.0</td>\n",
              "      <td>0.0</td>\n",
              "      <td>1.0</td>\n",
              "      <td>0.0</td>\n",
              "      <td>0.0</td>\n",
              "      <td>0.0</td>\n",
              "      <td>0.0</td>\n",
              "      <td>0.0</td>\n",
              "      <td>0.0</td>\n",
              "      <td>0.0</td>\n",
              "      <td>0.0</td>\n",
              "      <td>0.0</td>\n",
              "      <td>0.0</td>\n",
              "      <td>0.0</td>\n",
              "      <td>0.0</td>\n",
              "      <td>0.0</td>\n",
              "      <td>0.0</td>\n",
              "      <td>0.0</td>\n",
              "      <td>0.0</td>\n",
              "      <td>0.0</td>\n",
              "      <td>0.0</td>\n",
              "      <td>0.0</td>\n",
              "      <td>0.0</td>\n",
              "      <td>0.0</td>\n",
              "      <td>0.0</td>\n",
              "      <td>0.0</td>\n",
              "      <td>0.0</td>\n",
              "      <td>0.0</td>\n",
              "      <td>0.0</td>\n",
              "      <td>0.0</td>\n",
              "      <td>0.0</td>\n",
              "      <td>0.0</td>\n",
              "      <td>0.0</td>\n",
              "      <td>0.0</td>\n",
              "      <td>0.0</td>\n",
              "      <td>0.0</td>\n",
              "      <td>0.0</td>\n",
              "      <td>0.0</td>\n",
              "      <td>0.0</td>\n",
              "      <td>0.0</td>\n",
              "      <td>0.0</td>\n",
              "      <td>0.0</td>\n",
              "      <td>0.0</td>\n",
              "      <td>0.0</td>\n",
              "      <td>0.0</td>\n",
              "      <td>1.0</td>\n",
              "    </tr>\n",
              "    <tr>\n",
              "      <th>2</th>\n",
              "      <td>1</td>\n",
              "      <td>0.527778</td>\n",
              "      <td>0.545455</td>\n",
              "      <td>0.525253</td>\n",
              "      <td>0.666667</td>\n",
              "      <td>0.545455</td>\n",
              "      <td>0.545455</td>\n",
              "      <td>0.611111</td>\n",
              "      <td>0.454545</td>\n",
              "      <td>0.494949</td>\n",
              "      <td>0.0</td>\n",
              "      <td>0.0</td>\n",
              "      <td>0.0</td>\n",
              "      <td>0.0</td>\n",
              "      <td>0.0</td>\n",
              "      <td>0.0</td>\n",
              "      <td>0.0</td>\n",
              "      <td>1.0</td>\n",
              "      <td>0.0</td>\n",
              "      <td>0.0</td>\n",
              "      <td>0.0</td>\n",
              "      <td>0.0</td>\n",
              "      <td>0.0</td>\n",
              "      <td>0.0</td>\n",
              "      <td>0.0</td>\n",
              "      <td>0.0</td>\n",
              "      <td>0.0</td>\n",
              "      <td>0.0</td>\n",
              "      <td>0.0</td>\n",
              "      <td>0.0</td>\n",
              "      <td>0.0</td>\n",
              "      <td>0.0</td>\n",
              "      <td>0.0</td>\n",
              "      <td>0.0</td>\n",
              "      <td>0.0</td>\n",
              "      <td>0.0</td>\n",
              "      <td>0.0</td>\n",
              "      <td>0.0</td>\n",
              "      <td>0.0</td>\n",
              "      <td>0.0</td>\n",
              "      <td>0.0</td>\n",
              "      <td>0.0</td>\n",
              "      <td>0.0</td>\n",
              "      <td>0.0</td>\n",
              "      <td>0.0</td>\n",
              "      <td>0.0</td>\n",
              "      <td>0.0</td>\n",
              "      <td>0.0</td>\n",
              "      <td>0.0</td>\n",
              "      <td>0.0</td>\n",
              "      <td>0.0</td>\n",
              "      <td>0.0</td>\n",
              "      <td>0.0</td>\n",
              "      <td>0.0</td>\n",
              "      <td>0.0</td>\n",
              "      <td>0.0</td>\n",
              "      <td>0.0</td>\n",
              "      <td>0.0</td>\n",
              "      <td>0.0</td>\n",
              "      <td>1.0</td>\n",
              "      <td>0.0</td>\n",
              "    </tr>\n",
              "    <tr>\n",
              "      <th>3</th>\n",
              "      <td>1</td>\n",
              "      <td>0.694444</td>\n",
              "      <td>0.454545</td>\n",
              "      <td>0.328283</td>\n",
              "      <td>0.666667</td>\n",
              "      <td>0.545455</td>\n",
              "      <td>0.545455</td>\n",
              "      <td>0.277778</td>\n",
              "      <td>0.636364</td>\n",
              "      <td>0.888889</td>\n",
              "      <td>0.0</td>\n",
              "      <td>0.0</td>\n",
              "      <td>0.0</td>\n",
              "      <td>0.0</td>\n",
              "      <td>0.0</td>\n",
              "      <td>0.0</td>\n",
              "      <td>0.0</td>\n",
              "      <td>1.0</td>\n",
              "      <td>0.0</td>\n",
              "      <td>0.0</td>\n",
              "      <td>0.0</td>\n",
              "      <td>0.0</td>\n",
              "      <td>0.0</td>\n",
              "      <td>0.0</td>\n",
              "      <td>0.0</td>\n",
              "      <td>0.0</td>\n",
              "      <td>0.0</td>\n",
              "      <td>0.0</td>\n",
              "      <td>0.0</td>\n",
              "      <td>0.0</td>\n",
              "      <td>0.0</td>\n",
              "      <td>0.0</td>\n",
              "      <td>0.0</td>\n",
              "      <td>0.0</td>\n",
              "      <td>0.0</td>\n",
              "      <td>0.0</td>\n",
              "      <td>0.0</td>\n",
              "      <td>0.0</td>\n",
              "      <td>0.0</td>\n",
              "      <td>0.0</td>\n",
              "      <td>0.0</td>\n",
              "      <td>0.0</td>\n",
              "      <td>0.0</td>\n",
              "      <td>0.0</td>\n",
              "      <td>0.0</td>\n",
              "      <td>0.0</td>\n",
              "      <td>0.0</td>\n",
              "      <td>0.0</td>\n",
              "      <td>0.0</td>\n",
              "      <td>0.0</td>\n",
              "      <td>0.0</td>\n",
              "      <td>0.0</td>\n",
              "      <td>0.0</td>\n",
              "      <td>0.0</td>\n",
              "      <td>0.0</td>\n",
              "      <td>0.0</td>\n",
              "      <td>0.0</td>\n",
              "      <td>0.0</td>\n",
              "      <td>0.0</td>\n",
              "      <td>1.0</td>\n",
              "      <td>0.0</td>\n",
              "    </tr>\n",
              "    <tr>\n",
              "      <th>4</th>\n",
              "      <td>1</td>\n",
              "      <td>0.472222</td>\n",
              "      <td>0.409091</td>\n",
              "      <td>0.424242</td>\n",
              "      <td>0.666667</td>\n",
              "      <td>0.545455</td>\n",
              "      <td>0.545455</td>\n",
              "      <td>0.722222</td>\n",
              "      <td>0.727273</td>\n",
              "      <td>0.696970</td>\n",
              "      <td>0.0</td>\n",
              "      <td>0.0</td>\n",
              "      <td>0.0</td>\n",
              "      <td>0.0</td>\n",
              "      <td>0.0</td>\n",
              "      <td>0.0</td>\n",
              "      <td>0.0</td>\n",
              "      <td>1.0</td>\n",
              "      <td>0.0</td>\n",
              "      <td>0.0</td>\n",
              "      <td>0.0</td>\n",
              "      <td>0.0</td>\n",
              "      <td>0.0</td>\n",
              "      <td>0.0</td>\n",
              "      <td>0.0</td>\n",
              "      <td>0.0</td>\n",
              "      <td>0.0</td>\n",
              "      <td>0.0</td>\n",
              "      <td>0.0</td>\n",
              "      <td>0.0</td>\n",
              "      <td>0.0</td>\n",
              "      <td>0.0</td>\n",
              "      <td>0.0</td>\n",
              "      <td>0.0</td>\n",
              "      <td>1.0</td>\n",
              "      <td>0.0</td>\n",
              "      <td>0.0</td>\n",
              "      <td>0.0</td>\n",
              "      <td>0.0</td>\n",
              "      <td>0.0</td>\n",
              "      <td>0.0</td>\n",
              "      <td>0.0</td>\n",
              "      <td>0.0</td>\n",
              "      <td>0.0</td>\n",
              "      <td>0.0</td>\n",
              "      <td>0.0</td>\n",
              "      <td>0.0</td>\n",
              "      <td>0.0</td>\n",
              "      <td>0.0</td>\n",
              "      <td>0.0</td>\n",
              "      <td>0.0</td>\n",
              "      <td>0.0</td>\n",
              "      <td>0.0</td>\n",
              "      <td>0.0</td>\n",
              "      <td>0.0</td>\n",
              "      <td>0.0</td>\n",
              "      <td>0.0</td>\n",
              "      <td>0.0</td>\n",
              "      <td>0.0</td>\n",
              "      <td>0.0</td>\n",
              "      <td>0.0</td>\n",
              "    </tr>\n",
              "  </tbody>\n",
              "</table>\n",
              "</div>"
            ],
            "text/plain": [
              "   Date  ...  Away Player Country_Ukraine\n",
              "0     1  ...                          0.0\n",
              "1     1  ...                          1.0\n",
              "2     1  ...                          0.0\n",
              "3     1  ...                          0.0\n",
              "4     1  ...                          0.0\n",
              "\n",
              "[5 rows x 61 columns]"
            ]
          },
          "metadata": {
            "tags": []
          },
          "execution_count": 45
        }
      ]
    },
    {
      "cell_type": "code",
      "metadata": {
        "id": "58RjAoi8P_Go",
        "colab_type": "code",
        "colab": {}
      },
      "source": [
        "x = Data.to_numpy()"
      ],
      "execution_count": 0,
      "outputs": []
    },
    {
      "cell_type": "code",
      "metadata": {
        "id": "1TGJC9ueQQ6Y",
        "colab_type": "code",
        "outputId": "5656d280-fb45-4493-c1cd-e8ce83bc10f3",
        "colab": {
          "base_uri": "https://localhost:8080/",
          "height": 34
        }
      },
      "source": [
        "x.shape"
      ],
      "execution_count": 0,
      "outputs": [
        {
          "output_type": "execute_result",
          "data": {
            "text/plain": [
              "(11780, 61)"
            ]
          },
          "metadata": {
            "tags": []
          },
          "execution_count": 47
        }
      ]
    },
    {
      "cell_type": "markdown",
      "metadata": {
        "id": "b-6sf0dhQieA",
        "colab_type": "text"
      },
      "source": [
        "### Predictions"
      ]
    },
    {
      "cell_type": "code",
      "metadata": {
        "id": "D8IZm4RlQkpc",
        "colab_type": "code",
        "colab": {}
      },
      "source": [
        "prediction = lr.predict(x)\n",
        "\n",
        "probability_predictions = lr.predict_proba(x)"
      ],
      "execution_count": 0,
      "outputs": []
    },
    {
      "cell_type": "code",
      "metadata": {
        "id": "L1k_RB0ySg_y",
        "colab_type": "code",
        "outputId": "04c42c4a-9c77-4ae3-883f-61acea2817ae",
        "colab": {
          "base_uri": "https://localhost:8080/",
          "height": 34
        }
      },
      "source": [
        "probability_predictions[1]"
      ],
      "execution_count": 0,
      "outputs": [
        {
          "output_type": "execute_result",
          "data": {
            "text/plain": [
              "array([0.50029388, 0.49970612])"
            ]
          },
          "metadata": {
            "tags": []
          },
          "execution_count": 49
        }
      ]
    },
    {
      "cell_type": "code",
      "metadata": {
        "id": "3hzxof8-RIvj",
        "colab_type": "code",
        "outputId": "401c0694-faa4-4557-aa6f-943e57f846bd",
        "colab": {
          "base_uri": "https://localhost:8080/",
          "height": 204
        }
      },
      "source": [
        "Resultslr = pd.DataFrame()\n",
        "\n",
        "Resultslr['prediction'] = lr.predict(x)\n",
        "Resultslr['probability_predictions'] = lr.predict_proba(x)[:,1]\n",
        "\n",
        "Resultslr.head()"
      ],
      "execution_count": 0,
      "outputs": [
        {
          "output_type": "execute_result",
          "data": {
            "text/html": [
              "<div>\n",
              "<style scoped>\n",
              "    .dataframe tbody tr th:only-of-type {\n",
              "        vertical-align: middle;\n",
              "    }\n",
              "\n",
              "    .dataframe tbody tr th {\n",
              "        vertical-align: top;\n",
              "    }\n",
              "\n",
              "    .dataframe thead th {\n",
              "        text-align: right;\n",
              "    }\n",
              "</style>\n",
              "<table border=\"1\" class=\"dataframe\">\n",
              "  <thead>\n",
              "    <tr style=\"text-align: right;\">\n",
              "      <th></th>\n",
              "      <th>prediction</th>\n",
              "      <th>probability_predictions</th>\n",
              "    </tr>\n",
              "  </thead>\n",
              "  <tbody>\n",
              "    <tr>\n",
              "      <th>0</th>\n",
              "      <td>0.0</td>\n",
              "      <td>0.499128</td>\n",
              "    </tr>\n",
              "    <tr>\n",
              "      <th>1</th>\n",
              "      <td>0.0</td>\n",
              "      <td>0.499706</td>\n",
              "    </tr>\n",
              "    <tr>\n",
              "      <th>2</th>\n",
              "      <td>1.0</td>\n",
              "      <td>0.500849</td>\n",
              "    </tr>\n",
              "    <tr>\n",
              "      <th>3</th>\n",
              "      <td>0.0</td>\n",
              "      <td>0.499823</td>\n",
              "    </tr>\n",
              "    <tr>\n",
              "      <th>4</th>\n",
              "      <td>0.0</td>\n",
              "      <td>0.499853</td>\n",
              "    </tr>\n",
              "  </tbody>\n",
              "</table>\n",
              "</div>"
            ],
            "text/plain": [
              "   prediction  probability_predictions\n",
              "0         0.0                 0.499128\n",
              "1         0.0                 0.499706\n",
              "2         1.0                 0.500849\n",
              "3         0.0                 0.499823\n",
              "4         0.0                 0.499853"
            ]
          },
          "metadata": {
            "tags": []
          },
          "execution_count": 50
        }
      ]
    },
    {
      "cell_type": "code",
      "metadata": {
        "id": "hCD63eddTemj",
        "colab_type": "code",
        "colab": {}
      },
      "source": [
        "Results.to_csv('Resultslr.csv') \n"
      ],
      "execution_count": 0,
      "outputs": []
    },
    {
      "cell_type": "code",
      "metadata": {
        "id": "vhRz4KVKTjrh",
        "colab_type": "code",
        "colab": {}
      },
      "source": [
        "files.download('Resultslr.csv')"
      ],
      "execution_count": 0,
      "outputs": []
    },
    {
      "cell_type": "markdown",
      "metadata": {
        "id": "tfQXxZedVi1X",
        "colab_type": "text"
      },
      "source": [
        "## Prediction with NN"
      ]
    },
    {
      "cell_type": "code",
      "metadata": {
        "id": "d4uu9jyFVicQ",
        "colab_type": "code",
        "colab": {}
      },
      "source": [
        "predictionANN = ANN_Model.predict(x)\n",
        "\n",
        "probability_predictionsANN = ANN_Model.predict_proba(x)"
      ],
      "execution_count": 0,
      "outputs": []
    },
    {
      "cell_type": "code",
      "metadata": {
        "id": "87xvOXlFWJTw",
        "colab_type": "code",
        "outputId": "83c555d9-f822-41e1-abf2-aa470ffbff3f",
        "colab": {
          "base_uri": "https://localhost:8080/",
          "height": 136
        }
      },
      "source": [
        "probability_predictionsANN"
      ],
      "execution_count": 0,
      "outputs": [
        {
          "output_type": "execute_result",
          "data": {
            "text/plain": [
              "array([[0.4695543 ],\n",
              "       [0.687358  ],\n",
              "       [0.61112934],\n",
              "       ...,\n",
              "       [0.70365816],\n",
              "       [0.847671  ],\n",
              "       [0.31609413]], dtype=float32)"
            ]
          },
          "metadata": {
            "tags": []
          },
          "execution_count": 55
        }
      ]
    },
    {
      "cell_type": "code",
      "metadata": {
        "id": "bTE9f0KuVhFq",
        "colab_type": "code",
        "outputId": "4f9b636d-f0dc-4895-c290-57edadcf04ee",
        "colab": {
          "base_uri": "https://localhost:8080/",
          "height": 204
        }
      },
      "source": [
        "ResultsANN = pd.DataFrame(probability_predictionsANN)\n",
        "\n",
        "\n",
        "\n",
        "ResultsANN.head()"
      ],
      "execution_count": 0,
      "outputs": [
        {
          "output_type": "execute_result",
          "data": {
            "text/html": [
              "<div>\n",
              "<style scoped>\n",
              "    .dataframe tbody tr th:only-of-type {\n",
              "        vertical-align: middle;\n",
              "    }\n",
              "\n",
              "    .dataframe tbody tr th {\n",
              "        vertical-align: top;\n",
              "    }\n",
              "\n",
              "    .dataframe thead th {\n",
              "        text-align: right;\n",
              "    }\n",
              "</style>\n",
              "<table border=\"1\" class=\"dataframe\">\n",
              "  <thead>\n",
              "    <tr style=\"text-align: right;\">\n",
              "      <th></th>\n",
              "      <th>0</th>\n",
              "    </tr>\n",
              "  </thead>\n",
              "  <tbody>\n",
              "    <tr>\n",
              "      <th>0</th>\n",
              "      <td>0.469554</td>\n",
              "    </tr>\n",
              "    <tr>\n",
              "      <th>1</th>\n",
              "      <td>0.687358</td>\n",
              "    </tr>\n",
              "    <tr>\n",
              "      <th>2</th>\n",
              "      <td>0.611129</td>\n",
              "    </tr>\n",
              "    <tr>\n",
              "      <th>3</th>\n",
              "      <td>0.497904</td>\n",
              "    </tr>\n",
              "    <tr>\n",
              "      <th>4</th>\n",
              "      <td>0.672921</td>\n",
              "    </tr>\n",
              "  </tbody>\n",
              "</table>\n",
              "</div>"
            ],
            "text/plain": [
              "          0\n",
              "0  0.469554\n",
              "1  0.687358\n",
              "2  0.611129\n",
              "3  0.497904\n",
              "4  0.672921"
            ]
          },
          "metadata": {
            "tags": []
          },
          "execution_count": 56
        }
      ]
    },
    {
      "cell_type": "code",
      "metadata": {
        "id": "wXRj1re7tPl3",
        "colab_type": "code",
        "colab": {}
      },
      "source": [
        "ResultsANN.to_csv('ResultsANN.csv') "
      ],
      "execution_count": 0,
      "outputs": []
    },
    {
      "cell_type": "code",
      "metadata": {
        "id": "EwkZS8yztUWI",
        "colab_type": "code",
        "colab": {}
      },
      "source": [
        "files.download('ResultsANN.csv')"
      ],
      "execution_count": 0,
      "outputs": []
    },
    {
      "cell_type": "markdown",
      "metadata": {
        "id": "SOJCWdOhvqQA",
        "colab_type": "text"
      },
      "source": [
        "## Prediction with RF"
      ]
    },
    {
      "cell_type": "code",
      "metadata": {
        "id": "GrMXFySKvp8Y",
        "colab_type": "code",
        "outputId": "f00dd008-ca9b-475d-9fb7-a21e87dfb0d1",
        "colab": {
          "base_uri": "https://localhost:8080/",
          "height": 136
        }
      },
      "source": [
        "predictionRF = Model.predict(x)\n",
        "\n",
        "probability_predictionsRF = Model.predict_proba(x)\n",
        "\n",
        "probability_predictionsRF"
      ],
      "execution_count": 0,
      "outputs": [
        {
          "output_type": "execute_result",
          "data": {
            "text/plain": [
              "array([[0.48275964, 0.51724036],\n",
              "       [0.55998   , 0.44002   ],\n",
              "       [0.44747375, 0.55252625],\n",
              "       ...,\n",
              "       [0.3948443 , 0.6051557 ],\n",
              "       [0.39746025, 0.60253975],\n",
              "       [0.56408444, 0.43591556]])"
            ]
          },
          "metadata": {
            "tags": []
          },
          "execution_count": 60
        }
      ]
    },
    {
      "cell_type": "code",
      "metadata": {
        "id": "yh8NtGiswCe7",
        "colab_type": "code",
        "outputId": "1a8a958e-847a-4f00-e118-a3f8d46b778c",
        "colab": {
          "base_uri": "https://localhost:8080/",
          "height": 119
        }
      },
      "source": [
        "ResultsRF= pd.DataFrame(probability_predictionsRF).iloc[:,1]\n",
        "\n",
        "ResultsRF.head()"
      ],
      "execution_count": 0,
      "outputs": [
        {
          "output_type": "execute_result",
          "data": {
            "text/plain": [
              "0    0.517240\n",
              "1    0.440020\n",
              "2    0.552526\n",
              "3    0.452823\n",
              "4    0.442683\n",
              "Name: 1, dtype: float64"
            ]
          },
          "metadata": {
            "tags": []
          },
          "execution_count": 61
        }
      ]
    },
    {
      "cell_type": "code",
      "metadata": {
        "id": "9m72QDvIwTOB",
        "colab_type": "code",
        "outputId": "e7f8dfd0-8bfa-43a0-828c-6b12dc218fce",
        "colab": {
          "base_uri": "https://localhost:8080/",
          "height": 71
        }
      },
      "source": [
        "ResultsRF.to_csv('ResultsRF.csv')"
      ],
      "execution_count": 0,
      "outputs": [
        {
          "output_type": "stream",
          "text": [
            "/usr/local/lib/python3.6/dist-packages/ipykernel_launcher.py:1: FutureWarning: The signature of `Series.to_csv` was aligned to that of `DataFrame.to_csv`, and argument 'header' will change its default value from False to True: please pass an explicit value to suppress this warning.\n",
            "  \"\"\"Entry point for launching an IPython kernel.\n"
          ],
          "name": "stderr"
        }
      ]
    },
    {
      "cell_type": "markdown",
      "metadata": {
        "id": "GMfHlLsbGlMb",
        "colab_type": "text"
      },
      "source": [
        "## Data Insights"
      ]
    },
    {
      "cell_type": "code",
      "metadata": {
        "id": "lKh-2YqEGopG",
        "colab_type": "code",
        "colab": {
          "resources": {
            "http://localhost:8080/nbextensions/google.colab/files.js": {
              "data": "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",
              "ok": true,
              "headers": [
                [
                  "content-type",
                  "application/javascript"
                ]
              ],
              "status": 200,
              "status_text": ""
            }
          },
          "base_uri": "https://localhost:8080/",
          "height": 71
        },
        "outputId": "0f40dddd-abca-40ea-c2f5-635b8d1c7a5a"
      },
      "source": [
        "uploaded = files.upload()\n",
        "Data1 = pd.read_csv(io.StringIO(uploaded['exploratory1.csv'].decode('utf-8')))"
      ],
      "execution_count": 4,
      "outputs": [
        {
          "output_type": "display_data",
          "data": {
            "text/html": [
              "\n",
              "     <input type=\"file\" id=\"files-9d3ea43d-0fc2-42ca-86d7-b7c39ddf06df\" name=\"files[]\" multiple disabled />\n",
              "     <output id=\"result-9d3ea43d-0fc2-42ca-86d7-b7c39ddf06df\">\n",
              "      Upload widget is only available when the cell has been executed in the\n",
              "      current browser session. Please rerun this cell to enable.\n",
              "      </output>\n",
              "      <script src=\"/nbextensions/google.colab/files.js\"></script> "
            ],
            "text/plain": [
              "<IPython.core.display.HTML object>"
            ]
          },
          "metadata": {
            "tags": []
          }
        },
        {
          "output_type": "stream",
          "text": [
            "Saving exploratory1.csv to exploratory1.csv\n"
          ],
          "name": "stdout"
        }
      ]
    },
    {
      "cell_type": "code",
      "metadata": {
        "id": "f71OVZWLGuJD",
        "colab_type": "code",
        "colab": {
          "base_uri": "https://localhost:8080/",
          "height": 360
        },
        "outputId": "4703bc7b-f336-44fd-f8b1-438b32d8a8f3"
      },
      "source": [
        "Data1.head()"
      ],
      "execution_count": 5,
      "outputs": [
        {
          "output_type": "execute_result",
          "data": {
            "text/html": [
              "<div>\n",
              "<style scoped>\n",
              "    .dataframe tbody tr th:only-of-type {\n",
              "        vertical-align: middle;\n",
              "    }\n",
              "\n",
              "    .dataframe tbody tr th {\n",
              "        vertical-align: top;\n",
              "    }\n",
              "\n",
              "    .dataframe thead th {\n",
              "        text-align: right;\n",
              "    }\n",
              "</style>\n",
              "<table border=\"1\" class=\"dataframe\">\n",
              "  <thead>\n",
              "    <tr style=\"text-align: right;\">\n",
              "      <th></th>\n",
              "      <th>Date</th>\n",
              "      <th>Home</th>\n",
              "      <th>Away</th>\n",
              "      <th>Home Player</th>\n",
              "      <th>Home Player Age</th>\n",
              "      <th>Home Player Height (Inches)</th>\n",
              "      <th>Home Player Weight (Lbs)</th>\n",
              "      <th>Home Player Country</th>\n",
              "      <th>Away Player</th>\n",
              "      <th>Away Player Age</th>\n",
              "      <th>Away Player Height (Inches)</th>\n",
              "      <th>Away Player Weight (Lbs)</th>\n",
              "      <th>Away  Player Country</th>\n",
              "      <th>Home Player Win</th>\n",
              "    </tr>\n",
              "  </thead>\n",
              "  <tbody>\n",
              "    <tr>\n",
              "      <th>0</th>\n",
              "      <td>17/10/17</td>\n",
              "      <td>CLE</td>\n",
              "      <td>BOS</td>\n",
              "      <td>Kevin Love</td>\n",
              "      <td>30</td>\n",
              "      <td>82</td>\n",
              "      <td>251</td>\n",
              "      <td>USA</td>\n",
              "      <td>Al Horford</td>\n",
              "      <td>32</td>\n",
              "      <td>82</td>\n",
              "      <td>245</td>\n",
              "      <td>Dominican Republic</td>\n",
              "      <td>0</td>\n",
              "    </tr>\n",
              "    <tr>\n",
              "      <th>1</th>\n",
              "      <td>17/10/17</td>\n",
              "      <td>GSW</td>\n",
              "      <td>HOU</td>\n",
              "      <td>Zaza Pachulia</td>\n",
              "      <td>34</td>\n",
              "      <td>83</td>\n",
              "      <td>270</td>\n",
              "      <td>Russia</td>\n",
              "      <td>Clint Capela</td>\n",
              "      <td>24</td>\n",
              "      <td>82</td>\n",
              "      <td>240</td>\n",
              "      <td>Switzerland</td>\n",
              "      <td>0</td>\n",
              "    </tr>\n",
              "    <tr>\n",
              "      <th>2</th>\n",
              "      <td>18/10/17</td>\n",
              "      <td>DET</td>\n",
              "      <td>CHA</td>\n",
              "      <td>Andre Drummond</td>\n",
              "      <td>25</td>\n",
              "      <td>83</td>\n",
              "      <td>279</td>\n",
              "      <td>USA</td>\n",
              "      <td>Dwight Howard</td>\n",
              "      <td>32</td>\n",
              "      <td>83</td>\n",
              "      <td>265</td>\n",
              "      <td>USA</td>\n",
              "      <td>0</td>\n",
              "    </tr>\n",
              "    <tr>\n",
              "      <th>3</th>\n",
              "      <td>18/10/17</td>\n",
              "      <td>IND</td>\n",
              "      <td>BKN</td>\n",
              "      <td>Myles Turner</td>\n",
              "      <td>22</td>\n",
              "      <td>83</td>\n",
              "      <td>250</td>\n",
              "      <td>USA</td>\n",
              "      <td>Timofey Mozgov</td>\n",
              "      <td>32</td>\n",
              "      <td>85</td>\n",
              "      <td>275</td>\n",
              "      <td>Russia</td>\n",
              "      <td>1</td>\n",
              "    </tr>\n",
              "    <tr>\n",
              "      <th>4</th>\n",
              "      <td>18/10/17</td>\n",
              "      <td>ORL</td>\n",
              "      <td>MIA</td>\n",
              "      <td>Nikola Vucevic</td>\n",
              "      <td>27</td>\n",
              "      <td>84</td>\n",
              "      <td>260</td>\n",
              "      <td>Montenegro</td>\n",
              "      <td>Hassan Whiteside</td>\n",
              "      <td>29</td>\n",
              "      <td>85</td>\n",
              "      <td>265</td>\n",
              "      <td>USA</td>\n",
              "      <td>0</td>\n",
              "    </tr>\n",
              "  </tbody>\n",
              "</table>\n",
              "</div>"
            ],
            "text/plain": [
              "       Date Home  ... Away  Player Country Home Player Win\n",
              "0  17/10/17  CLE  ...   Dominican Republic               0\n",
              "1  17/10/17  GSW  ...          Switzerland               0\n",
              "2  18/10/17  DET  ...                  USA               0\n",
              "3  18/10/17  IND  ...               Russia               1\n",
              "4  18/10/17  ORL  ...                  USA               0\n",
              "\n",
              "[5 rows x 14 columns]"
            ]
          },
          "metadata": {
            "tags": []
          },
          "execution_count": 5
        }
      ]
    },
    {
      "cell_type": "code",
      "metadata": {
        "id": "FklU6tG9TBBg",
        "colab_type": "code",
        "colab": {
          "base_uri": "https://localhost:8080/",
          "height": 314
        },
        "outputId": "3dff7cb2-ce22-4243-bb12-3f483f567c77"
      },
      "source": [
        "Data1.describe()"
      ],
      "execution_count": 8,
      "outputs": [
        {
          "output_type": "execute_result",
          "data": {
            "text/html": [
              "<div>\n",
              "<style scoped>\n",
              "    .dataframe tbody tr th:only-of-type {\n",
              "        vertical-align: middle;\n",
              "    }\n",
              "\n",
              "    .dataframe tbody tr th {\n",
              "        vertical-align: top;\n",
              "    }\n",
              "\n",
              "    .dataframe thead th {\n",
              "        text-align: right;\n",
              "    }\n",
              "</style>\n",
              "<table border=\"1\" class=\"dataframe\">\n",
              "  <thead>\n",
              "    <tr style=\"text-align: right;\">\n",
              "      <th></th>\n",
              "      <th>Home Player Age</th>\n",
              "      <th>Home Player Height (Inches)</th>\n",
              "      <th>Home Player Weight (Lbs)</th>\n",
              "      <th>Away Player Age</th>\n",
              "      <th>Away Player Height (Inches)</th>\n",
              "      <th>Away Player Weight (Lbs)</th>\n",
              "      <th>Home Player Win</th>\n",
              "    </tr>\n",
              "  </thead>\n",
              "  <tbody>\n",
              "    <tr>\n",
              "      <th>count</th>\n",
              "      <td>1291.000000</td>\n",
              "      <td>1291.000000</td>\n",
              "      <td>1291.000000</td>\n",
              "      <td>1291.000000</td>\n",
              "      <td>1291.000000</td>\n",
              "      <td>1291.000000</td>\n",
              "      <td>1291.000000</td>\n",
              "    </tr>\n",
              "    <tr>\n",
              "      <th>mean</th>\n",
              "      <td>27.546863</td>\n",
              "      <td>83.270333</td>\n",
              "      <td>251.864446</td>\n",
              "      <td>27.704105</td>\n",
              "      <td>83.274981</td>\n",
              "      <td>252.254067</td>\n",
              "      <td>0.505809</td>\n",
              "    </tr>\n",
              "    <tr>\n",
              "      <th>std</th>\n",
              "      <td>4.200767</td>\n",
              "      <td>1.459174</td>\n",
              "      <td>15.391613</td>\n",
              "      <td>4.125264</td>\n",
              "      <td>1.484645</td>\n",
              "      <td>15.940069</td>\n",
              "      <td>0.500160</td>\n",
              "    </tr>\n",
              "    <tr>\n",
              "      <th>min</th>\n",
              "      <td>20.000000</td>\n",
              "      <td>76.000000</td>\n",
              "      <td>191.000000</td>\n",
              "      <td>20.000000</td>\n",
              "      <td>76.000000</td>\n",
              "      <td>191.000000</td>\n",
              "      <td>0.000000</td>\n",
              "    </tr>\n",
              "    <tr>\n",
              "      <th>25%</th>\n",
              "      <td>24.000000</td>\n",
              "      <td>83.000000</td>\n",
              "      <td>240.000000</td>\n",
              "      <td>25.000000</td>\n",
              "      <td>83.000000</td>\n",
              "      <td>240.000000</td>\n",
              "      <td>0.000000</td>\n",
              "    </tr>\n",
              "    <tr>\n",
              "      <th>50%</th>\n",
              "      <td>27.000000</td>\n",
              "      <td>83.000000</td>\n",
              "      <td>250.000000</td>\n",
              "      <td>27.000000</td>\n",
              "      <td>83.000000</td>\n",
              "      <td>250.000000</td>\n",
              "      <td>1.000000</td>\n",
              "    </tr>\n",
              "    <tr>\n",
              "      <th>75%</th>\n",
              "      <td>30.000000</td>\n",
              "      <td>84.000000</td>\n",
              "      <td>265.000000</td>\n",
              "      <td>30.000000</td>\n",
              "      <td>84.000000</td>\n",
              "      <td>265.000000</td>\n",
              "      <td>1.000000</td>\n",
              "    </tr>\n",
              "    <tr>\n",
              "      <th>max</th>\n",
              "      <td>38.000000</td>\n",
              "      <td>87.000000</td>\n",
              "      <td>280.000000</td>\n",
              "      <td>38.000000</td>\n",
              "      <td>87.000000</td>\n",
              "      <td>290.000000</td>\n",
              "      <td>1.000000</td>\n",
              "    </tr>\n",
              "  </tbody>\n",
              "</table>\n",
              "</div>"
            ],
            "text/plain": [
              "       Home Player Age  ...  Home Player Win\n",
              "count      1291.000000  ...      1291.000000\n",
              "mean         27.546863  ...         0.505809\n",
              "std           4.200767  ...         0.500160\n",
              "min          20.000000  ...         0.000000\n",
              "25%          24.000000  ...         0.000000\n",
              "50%          27.000000  ...         1.000000\n",
              "75%          30.000000  ...         1.000000\n",
              "max          38.000000  ...         1.000000\n",
              "\n",
              "[8 rows x 7 columns]"
            ]
          },
          "metadata": {
            "tags": []
          },
          "execution_count": 8
        }
      ]
    },
    {
      "cell_type": "markdown",
      "metadata": {
        "id": "7a2Ecd-OUrFY",
        "colab_type": "text"
      },
      "source": [
        "## Distributions"
      ]
    },
    {
      "cell_type": "code",
      "metadata": {
        "id": "2R5BT7vyUthr",
        "colab_type": "code",
        "colab": {}
      },
      "source": [
        "d = Data1.to_numpy()"
      ],
      "execution_count": 0,
      "outputs": []
    },
    {
      "cell_type": "code",
      "metadata": {
        "id": "NO6DzjH4U2NJ",
        "colab_type": "code",
        "colab": {
          "base_uri": "https://localhost:8080/",
          "height": 34
        },
        "outputId": "8662bc95-692e-43b9-e9fe-670a99993c3f"
      },
      "source": [
        "d.shape"
      ],
      "execution_count": 10,
      "outputs": [
        {
          "output_type": "execute_result",
          "data": {
            "text/plain": [
              "(1291, 14)"
            ]
          },
          "metadata": {
            "tags": []
          },
          "execution_count": 10
        }
      ]
    },
    {
      "cell_type": "code",
      "metadata": {
        "id": "mzPPaqWQWo5L",
        "colab_type": "code",
        "colab": {}
      },
      "source": [
        "d_num = Data1.select_dtypes(include=['float64','int64'])"
      ],
      "execution_count": 0,
      "outputs": []
    },
    {
      "cell_type": "code",
      "metadata": {
        "id": "TtHUaKX01j3i",
        "colab_type": "code",
        "colab": {
          "base_uri": "https://localhost:8080/",
          "height": 661
        },
        "outputId": "5371c466-178c-4d37-91d8-b6f36e4c8c88"
      },
      "source": [
        "## distribution of diferent varoables\n",
        "\n",
        "fig = plt.figure(figsize = (10,10))\n",
        "ax = fig.gca()\n",
        "d_num.hist(ax=ax)\n",
        "plt.show()"
      ],
      "execution_count": 50,
      "outputs": [
        {
          "output_type": "stream",
          "text": [
            "/usr/local/lib/python3.6/dist-packages/ipykernel_launcher.py:3: UserWarning: To output multiple subplots, the figure containing the passed axes is being cleared\n",
            "  This is separate from the ipykernel package so we can avoid doing imports until\n"
          ],
          "name": "stderr"
        },
        {
          "output_type": "display_data",
          "data": {
            "image/png": "[encoded data removed]",
            "text/plain": [
              "<Figure size 720x720 with 9 Axes>"
            ]
          },
          "metadata": {
            "tags": []
          }
        }
      ]
    },
    {
      "cell_type": "code",
      "metadata": {
        "id": "Ln7BLMO-Rc14",
        "colab_type": "code",
        "colab": {}
      },
      "source": [
        "import seaborn as sns; sns.set()\n",
        "import matplotlib.pyplot as plt"
      ],
      "execution_count": 0,
      "outputs": []
    },
    {
      "cell_type": "code",
      "metadata": {
        "id": "A9qg2mo8RBCU",
        "colab_type": "code",
        "colab": {
          "base_uri": "https://localhost:8080/",
          "height": 285
        },
        "outputId": "b5a76e55-33c9-44e1-a771-93da61634c3d"
      },
      "source": [
        "\n",
        "ax1 = sns.scatterplot(x=\"Home Player Height (Inches)\", y=\"Home Player Weight (Lbs)\",\n",
        "                     hue=\"Home Player Win\", sizes=(200, 200), data=Data)\n",
        "\n"
      ],
      "execution_count": 48,
      "outputs": [
        {
          "output_type": "display_data",
          "data": {
            "image/png": "[encoded data removed]",
            "text/plain": [
              "<Figure size 432x288 with 1 Axes>"
            ]
          },
          "metadata": {
            "tags": []
          }
        }
      ]
    },
    {
      "cell_type": "code",
      "metadata": {
        "id": "uXyvhF3ASjeg",
        "colab_type": "code",
        "colab": {
          "base_uri": "https://localhost:8080/",
          "height": 285
        },
        "outputId": "75b245bc-7509-452e-e1a3-d4c6bacf2c96"
      },
      "source": [
        "ax2 = sns.scatterplot(x=\"Home Player Age\", y=\"Home Player Weight (Lbs)\",\n",
        "                     hue=\"Home Player Win\", sizes=(200, 200), data=Data)\n"
      ],
      "execution_count": 49,
      "outputs": [
        {
          "output_type": "display_data",
          "data": {
            "image/png": "[encoded data removed]",
            "text/plain": [
              "<Figure size 432x288 with 1 Axes>"
            ]
          },
          "metadata": {
            "tags": []
          }
        }
      ]
    },
    {
      "cell_type": "code",
      "metadata": {
        "id": "EJDSl2sSSpLB",
        "colab_type": "code",
        "colab": {
          "base_uri": "https://localhost:8080/",
          "height": 285
        },
        "outputId": "f8d349c1-0e19-4197-cc0a-2e6b4d98e687"
      },
      "source": [
        "ax3 = sns.scatterplot(x=\"Home Player Age\", y=\"Home Player Height (Inches)\",\n",
        "                     hue=\"Home Player Win\", sizes=(200, 200), data=Data)"
      ],
      "execution_count": 50,
      "outputs": [
        {
          "output_type": "display_data",
          "data": {
            "image/png": "[encoded data removed]",
            "text/plain": [
              "<Figure size 432x288 with 1 Axes>"
            ]
          },
          "metadata": {
            "tags": []
          }
        }
      ]
    }
  ]
}